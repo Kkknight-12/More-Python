{
 "cells": [
  {
   "cell_type": "code",
   "execution_count": 9,
   "metadata": {},
   "outputs": [],
   "source": [
    "def isPhoneNumber(text):\n",
    "    if len(text) != 12:\n",
    "        return False\n",
    "    for i in range(0, 3):\n",
    "            if not text[i].isdecimal():\n",
    "                return False\n",
    "    if text[3] != '-':\n",
    "         return False\n",
    "    for i in range(4, 7):\n",
    "            if not text[i].isdecimal():\n",
    "                 return False\n",
    "    if text[7] != '-':\n",
    "        return False\n",
    "    for i in range(8, 12):\n",
    "            if not text[i].isdecimal():\n",
    "                return False\n",
    "    return True"
   ]
  },
  {
   "cell_type": "code",
   "execution_count": 15,
   "metadata": {},
   "outputs": [
    {
     "name": "stdout",
     "output_type": "stream",
     "text": [
      "Is 415-555-4242 a phone number?\n",
      "True\n"
     ]
    }
   ],
   "source": [
    "print('Is 415-555-4242 a phone number?')\n",
    "print(isPhoneNumber('415-555-4242'))"
   ]
  },
  {
   "cell_type": "code",
   "execution_count": 14,
   "metadata": {},
   "outputs": [
    {
     "name": "stdout",
     "output_type": "stream",
     "text": [
      "Is Moshi moshi a phone number?\n",
      "False\n"
     ]
    }
   ],
   "source": [
    "print('Is Moshi moshi a phone number?')\n",
    "print(isPhoneNumber('Moshi moshi'))"
   ]
  },
  {
   "cell_type": "code",
   "execution_count": 16,
   "metadata": {},
   "outputs": [
    {
     "name": "stdout",
     "output_type": "stream",
     "text": [
      "Phone number found: 415-555-1011\n",
      "Phone number found: 415-555-9999\n",
      "Done\n"
     ]
    }
   ],
   "source": [
    "message = 'Call me at 415-555-1011 tomorrow. 415-555-9999 is my office.'\n",
    "\n",
    "found_number = False\n",
    "for i in range(len(message)):\n",
    "    chunk = message[i:i+12] \n",
    "    if isPhoneNumber(chunk):\n",
    "        print('Phone number found: ' + chunk) \n",
    "        found_number = True\n",
    "if not found_number:\n",
    "    print('Could not find any phone numbers')\n",
    "print('Done')"
   ]
  },
  {
   "cell_type": "markdown",
   "metadata": {},
   "source": [
    "# REgular Expressionn\n",
    "\n",
    "## re.complie()"
   ]
  },
  {
   "cell_type": "code",
   "execution_count": 1,
   "metadata": {},
   "outputs": [],
   "source": [
    "import re\n",
    "\n",
    "message = 'Call me at 415-555-1011 tomorrow. 415-555-9999 is my office.'\n",
    "\n",
    "phoneNumRegex = re.compile(r'\\d\\d\\d-\\d\\d\\d-\\d\\d\\d\\d')"
   ]
  },
  {
   "cell_type": "markdown",
   "metadata": {},
   "source": [
    "### search and group \n",
    "method to return the search"
   ]
  },
  {
   "cell_type": "code",
   "execution_count": 2,
   "metadata": {},
   "outputs": [
    {
     "name": "stdout",
     "output_type": "stream",
     "text": [
      "415-555-1011\n"
     ]
    }
   ],
   "source": [
    "mo = phoneNumRegex.search(message)\n",
    "print(mo.group())"
   ]
  },
  {
   "cell_type": "markdown",
   "metadata": {},
   "source": [
    "### findall()"
   ]
  },
  {
   "cell_type": "code",
   "execution_count": 10,
   "metadata": {},
   "outputs": [
    {
     "name": "stdout",
     "output_type": "stream",
     "text": [
      "['415-555-1011', '415-555-9999']\n"
     ]
    }
   ],
   "source": [
    "\n",
    "phoneNumRegex = re.compile(r'\\d\\d\\d-\\d\\d\\d-\\d\\d\\d\\d')\n",
    "\n",
    "mo = phoneNumRegex.findall(message)\n",
    "print(mo)"
   ]
  },
  {
   "cell_type": "markdown",
   "metadata": {},
   "source": [
    "### parathensis to mark out group"
   ]
  },
  {
   "cell_type": "code",
   "execution_count": 11,
   "metadata": {},
   "outputs": [
    {
     "name": "stdout",
     "output_type": "stream",
     "text": [
      "415-555-1011\n"
     ]
    }
   ],
   "source": [
    "phoneNumRegex = re.compile(r'(\\d\\d\\d)-(\\d\\d\\d-\\d\\d\\d\\d)')\n",
    "\n",
    "mo = phoneNumRegex.search(message)\n",
    "print(mo.group())"
   ]
  },
  {
   "cell_type": "code",
   "execution_count": 12,
   "metadata": {},
   "outputs": [
    {
     "name": "stdout",
     "output_type": "stream",
     "text": [
      "415\n"
     ]
    }
   ],
   "source": [
    "print(mo.group(1))"
   ]
  },
  {
   "cell_type": "code",
   "execution_count": 13,
   "metadata": {},
   "outputs": [
    {
     "name": "stdout",
     "output_type": "stream",
     "text": [
      "555-1011\n"
     ]
    }
   ],
   "source": [
    "print(mo.group(2))"
   ]
  },
  {
   "cell_type": "code",
   "execution_count": 54,
   "metadata": {},
   "outputs": [
    {
     "name": "stdout",
     "output_type": "stream",
     "text": [
      "(415) 555-1011\n"
     ]
    }
   ],
   "source": [
    "phoneNumRegex = re.compile(r'\\(\\d\\d\\d\\) \\d\\d\\d-\\d\\d\\d\\d')\n",
    "\n",
    "message1 ='My number is (415) 555-1011'\n",
    "\n",
    "mo = phoneNumRegex.search(message1)\n",
    "print(mo.group())"
   ]
  },
  {
   "cell_type": "code",
   "execution_count": 41,
   "metadata": {},
   "outputs": [
    {
     "data": {
      "text/plain": [
       "'Batcopter'"
      ]
     },
     "execution_count": 41,
     "metadata": {},
     "output_type": "execute_result"
    }
   ],
   "source": [
    "batRegex = re.compile(r'Bat(man|mobile|copter|bat)')\n",
    "mo = batRegex.search(\"Batcopter lost a wheel\")\n",
    "mo.group()"
   ]
  },
  {
   "cell_type": "code",
   "execution_count": 42,
   "metadata": {},
   "outputs": [
    {
     "data": {
      "text/plain": [
       "'copter'"
      ]
     },
     "execution_count": 42,
     "metadata": {},
     "output_type": "execute_result"
    }
   ],
   "source": [
    "mo.group(1) # group 1 is 1st set of paranthesis"
   ]
  },
  {
   "cell_type": "markdown",
   "metadata": {},
   "source": [
    "## search return none when fine nothing"
   ]
  },
  {
   "cell_type": "code",
   "execution_count": 37,
   "metadata": {},
   "outputs": [
    {
     "data": {
      "text/plain": [
       "True"
      ]
     },
     "execution_count": 37,
     "metadata": {},
     "output_type": "execute_result"
    }
   ],
   "source": [
    "mo = batRegex.search(\"Batmotorcycle lost a wheel\")\n",
    "mo ==None"
   ]
  },
  {
   "cell_type": "markdown",
   "metadata": {},
   "source": [
    "## ? say string can appear 0 or 1 time\n",
    "batman|batwomen"
   ]
  },
  {
   "cell_type": "code",
   "execution_count": 58,
   "metadata": {},
   "outputs": [
    {
     "data": {
      "text/plain": [
       "'Batman'"
      ]
     },
     "execution_count": 58,
     "metadata": {},
     "output_type": "execute_result"
    }
   ],
   "source": [
    "batRegex = re.compile(r'Bat(wo)?man')\n",
    "mo = batRegex.search('The Adventures of Batman')\n",
    "mo.group()"
   ]
  },
  {
   "cell_type": "code",
   "execution_count": 59,
   "metadata": {},
   "outputs": [
    {
     "data": {
      "text/plain": [
       "'Batwoman'"
      ]
     },
     "execution_count": 59,
     "metadata": {},
     "output_type": "execute_result"
    }
   ],
   "source": [
    "mo = batRegex.search('The Adventures of Batwoman')\n",
    "mo.group()"
   ]
  },
  {
   "cell_type": "markdown",
   "metadata": {},
   "source": [
    "### (\\d\\d\\d-)? means this part can appear 0 or 1 times"
   ]
  },
  {
   "cell_type": "code",
   "execution_count": 75,
   "metadata": {},
   "outputs": [],
   "source": [
    "message = 'Call me at 415-555-1011 tomorrow'\n",
    "\n",
    "msg_REgex = re.compile(r'(\\d\\d\\d-)?\\d\\d\\d-\\d\\d\\d\\d')"
   ]
  },
  {
   "cell_type": "code",
   "execution_count": 76,
   "metadata": {},
   "outputs": [
    {
     "data": {
      "text/plain": [
       "'415-555-1011'"
      ]
     },
     "execution_count": 76,
     "metadata": {},
     "output_type": "execute_result"
    }
   ],
   "source": [
    "mo = msg_REgex.search(message)\n",
    "mo.group(0)"
   ]
  },
  {
   "cell_type": "code",
   "execution_count": 79,
   "metadata": {},
   "outputs": [
    {
     "data": {
      "text/plain": [
       "'555-9999'"
      ]
     },
     "execution_count": 79,
     "metadata": {},
     "output_type": "execute_result"
    }
   ],
   "source": [
    "message1 = '555-9999 is my office.'\n",
    "\n",
    "msg_REgex = re.compile(r'(\\d\\d\\d-)?\\d\\d\\d-\\d\\d\\d\\d')\n",
    "\n",
    "mo = msg_REgex.search(message1)\n",
    "mo.group(0)"
   ]
  },
  {
   "cell_type": "markdown",
   "metadata": {},
   "source": [
    "# * means zero or more times"
   ]
  },
  {
   "cell_type": "code",
   "execution_count": 84,
   "metadata": {},
   "outputs": [
    {
     "data": {
      "text/plain": [
       "'Batman'"
      ]
     },
     "execution_count": 84,
     "metadata": {},
     "output_type": "execute_result"
    }
   ],
   "source": [
    "batRegex = re.compile(r'Bat(wo)*man')\n",
    "mo = batRegex.search('The Adventures of Batman')\n",
    "mo.group()"
   ]
  },
  {
   "cell_type": "code",
   "execution_count": 85,
   "metadata": {},
   "outputs": [
    {
     "data": {
      "text/plain": [
       "'Batwowowowoman'"
      ]
     },
     "execution_count": 85,
     "metadata": {},
     "output_type": "execute_result"
    }
   ],
   "source": [
    "mo = batRegex.search('The Adventures of Batwowowowoman')\n",
    "mo.group()"
   ]
  },
  {
   "cell_type": "markdown",
   "metadata": {},
   "source": [
    "# + means 1 or more times"
   ]
  },
  {
   "cell_type": "code",
   "execution_count": 89,
   "metadata": {},
   "outputs": [
    {
     "data": {
      "text/plain": [
       "True"
      ]
     },
     "execution_count": 89,
     "metadata": {},
     "output_type": "execute_result"
    }
   ],
   "source": [
    "batRegex = re.compile(r'Bat(wo)+man')\n",
    "\n",
    "mo = batRegex.search('The Adventures of Batman')\n",
    "mo == None"
   ]
  },
  {
   "cell_type": "markdown",
   "metadata": {},
   "source": [
    "## Power of backslach\n",
    "\n",
    "it remove special power of characters"
   ]
  },
  {
   "cell_type": "code",
   "execution_count": 90,
   "metadata": {},
   "outputs": [
    {
     "data": {
      "text/plain": [
       "'+*?'"
      ]
     },
     "execution_count": 90,
     "metadata": {},
     "output_type": "execute_result"
    }
   ],
   "source": [
    "regex = re.compile(r'\\+\\*\\?')\n",
    "\n",
    "mo =regex.search('I learned about +*? regex syntax')\n",
    "mo.group()"
   ]
  },
  {
   "cell_type": "markdown",
   "metadata": {},
   "source": [
    "### here we will be searching for + * ? one or more times"
   ]
  },
  {
   "cell_type": "code",
   "execution_count": 91,
   "metadata": {},
   "outputs": [
    {
     "data": {
      "text/plain": [
       "'+*?+*?+*?+*?+*?'"
      ]
     },
     "execution_count": 91,
     "metadata": {},
     "output_type": "execute_result"
    }
   ],
   "source": [
    "regex= re.compile(r'(\\+\\*\\?)+')\n",
    "mo1 =regex.search('I learned about +*?+*?+*?+*?+*? regex syntax')\n",
    "mo1.group()"
   ]
  },
  {
   "cell_type": "markdown",
   "metadata": {},
   "source": [
    "# Exactly x times with {}"
   ]
  },
  {
   "cell_type": "code",
   "execution_count": 94,
   "metadata": {},
   "outputs": [
    {
     "data": {
      "text/plain": [
       "'HaHaHa'"
      ]
     },
     "execution_count": 94,
     "metadata": {},
     "output_type": "execute_result"
    }
   ],
   "source": [
    "haRegex = re.compile(r'(Ha){3}')\n",
    "mo = haRegex.search('He said \"HaHaHa\"')\n",
    "mo.group()"
   ]
  },
  {
   "cell_type": "markdown",
   "metadata": {},
   "source": [
    "### searching 2 phone number (?) \n",
    "- that my or may not have area code \n",
    "- may or maynot be seperated by coma"
   ]
  },
  {
   "cell_type": "code",
   "execution_count": 107,
   "metadata": {},
   "outputs": [
    {
     "data": {
      "text/plain": [
       "'415-555-1011,555-9999'"
      ]
     },
     "execution_count": 107,
     "metadata": {},
     "output_type": "execute_result"
    }
   ],
   "source": [
    "message1 = 'Call me at 415-555-1011,555-9999 is my office.'\n",
    "\n",
    "msg_REgex = re.compile(r'((\\d\\d\\d-)?\\d\\d\\d-\\d\\d\\d\\d(,)?){2}')\n",
    "\n",
    "mo = msg_REgex.search(message1)\n",
    "mo.group()"
   ]
  },
  {
   "cell_type": "markdown",
   "metadata": {},
   "source": [
    "### possible range {,}"
   ]
  },
  {
   "cell_type": "code",
   "execution_count": 108,
   "metadata": {},
   "outputs": [
    {
     "data": {
      "text/plain": [
       "'HaHaHa'"
      ]
     },
     "execution_count": 108,
     "metadata": {},
     "output_type": "execute_result"
    }
   ],
   "source": [
    "haRegex = re.compile(r'(Ha){2,5}')\n",
    "mo = haRegex.search('He said \"HaHaHa\"')\n",
    "mo.group()"
   ]
  },
  {
   "cell_type": "markdown",
   "metadata": {},
   "source": [
    "### searching by giving one range {,}\n"
   ]
  },
  {
   "cell_type": "code",
   "execution_count": 109,
   "metadata": {},
   "outputs": [
    {
     "data": {
      "text/plain": [
       "'HaHaHa'"
      ]
     },
     "execution_count": 109,
     "metadata": {},
     "output_type": "execute_result"
    }
   ],
   "source": [
    "# searching ha comming min 3 times\n",
    "\n",
    "haRegex = re.compile(r'(Ha){3,}')\n",
    "mo = haRegex.search('He said \"HaHaHa\"')\n",
    "mo.group()"
   ]
  },
  {
   "cell_type": "markdown",
   "metadata": {},
   "source": [
    "### range provide the greedy seach \n",
    "- gives longest possible maching string"
   ]
  },
  {
   "cell_type": "code",
   "execution_count": 113,
   "metadata": {},
   "outputs": [
    {
     "data": {
      "text/plain": [
       "'12345'"
      ]
     },
     "execution_count": 113,
     "metadata": {},
     "output_type": "execute_result"
    }
   ],
   "source": [
    "digitRegex = re.compile(r'(\\d){3,5}')\n",
    "mo = digitRegex.search('12345678')\n",
    "mo.group()"
   ]
  },
  {
   "cell_type": "markdown",
   "metadata": {},
   "source": [
    "### {} with ? give non gready search\n",
    "- its different from ? wich says 0 or 1\n",
    "- it is searching for a non greedy expression"
   ]
  },
  {
   "cell_type": "code",
   "execution_count": 115,
   "metadata": {},
   "outputs": [
    {
     "data": {
      "text/plain": [
       "'123'"
      ]
     },
     "execution_count": 115,
     "metadata": {},
     "output_type": "execute_result"
    }
   ],
   "source": [
    "digitRegex = re.compile(r'(\\d){3,5}?')\n",
    "mo = digitRegex.search('12345678')\n",
    "mo.group()"
   ]
  },
  {
   "cell_type": "markdown",
   "metadata": {},
   "source": [
    "# findall()\n",
    "\n",
    "### When we use re.findall(), it returns a list of zero or more sub-strings that match the regular expression."
   ]
  },
  {
   "cell_type": "code",
   "execution_count": 87,
   "metadata": {},
   "outputs": [
    {
     "name": "stdout",
     "output_type": "stream",
     "text": [
      "['2', '23', '42']\n"
     ]
    }
   ],
   "source": [
    "import re\n",
    "\n",
    "x = 'my 2 fav numbers are 23 and 42'\n",
    "y = re.findall('[0-9]+',x)\n",
    "print(y)"
   ]
  },
  {
   "cell_type": "code",
   "execution_count": 91,
   "metadata": {},
   "outputs": [
    {
     "name": "stdout",
     "output_type": "stream",
     "text": [
      "[]\n"
     ]
    }
   ],
   "source": [
    "y = re.findall('[AEIOU]+',x)\n",
    "print(y)"
   ]
  },
  {
   "cell_type": "markdown",
   "metadata": {},
   "source": [
    "returns empty list as there was no capital letter in x"
   ]
  },
  {
   "cell_type": "code",
   "execution_count": 116,
   "metadata": {},
   "outputs": [],
   "source": [
    "message = 'Call me at 415-555-1011 tomorrow. 415-555-9999 is my office.'\n",
    "\n",
    "phoneNumRegex = re.compile(r'\\d\\d\\d-\\d\\d\\d-\\d\\d\\d\\d')"
   ]
  },
  {
   "cell_type": "code",
   "execution_count": 117,
   "metadata": {},
   "outputs": [
    {
     "data": {
      "text/plain": [
       "['415-555-1011', '415-555-9999']"
      ]
     },
     "execution_count": 117,
     "metadata": {},
     "output_type": "execute_result"
    }
   ],
   "source": [
    "#phoneNumRegex.search(message)\n",
    "phoneNumRegex.findall(message)"
   ]
  },
  {
   "cell_type": "code",
   "execution_count": 119,
   "metadata": {},
   "outputs": [
    {
     "data": {
      "text/plain": [
       "[('415', '555-1011'), ('415', '555-9999')]"
      ]
     },
     "execution_count": 119,
     "metadata": {},
     "output_type": "execute_result"
    }
   ],
   "source": [
    "phoneNumRegex = re.compile(r'(\\d\\d\\d)-(\\d\\d\\d-\\d\\d\\d\\d)')\n",
    "\n",
    "phoneNumRegex.findall(message)"
   ]
  },
  {
   "cell_type": "markdown",
   "metadata": {},
   "source": [
    "- \\d+ for 1 or 2 digits \n",
    "- \\s for new line or space\n",
    "- \\w+ for one or more word character"
   ]
  },
  {
   "cell_type": "code",
   "execution_count": 124,
   "metadata": {},
   "outputs": [
    {
     "data": {
      "text/plain": [
       "['12 dummers', '11 popers', '10 lords', '9 ladies', '8 maids']"
      ]
     },
     "execution_count": 124,
     "metadata": {},
     "output_type": "execute_result"
    }
   ],
   "source": [
    "lyrics = '12 dummers drumming, 11 popers piping, 10 lords a leaping, 9 ladies dancing, 8 maids a milking'\n",
    "\n",
    "xmasRegex = re.compile(r'\\d+\\s\\w+')\n",
    "xmasRegex.findall(lyrics)"
   ]
  },
  {
   "cell_type": "markdown",
   "metadata": {},
   "source": [
    "so it is searching for one or two digit then a space then a word and the space after it break the pattern when reaches non word character."
   ]
  },
  {
   "cell_type": "code",
   "execution_count": 125,
   "metadata": {},
   "outputs": [
    {
     "data": {
      "text/plain": [
       "['o', 'o', 'o', 'e', 'a', 'a', 'o', 'o']"
      ]
     },
     "execution_count": 125,
     "metadata": {},
     "output_type": "execute_result"
    }
   ],
   "source": [
    "vowelRegex = re.compile(r'[aeiouAeiou]')\n",
    "vowelRegex.findall('Robocop eats baby food.')"
   ]
  },
  {
   "cell_type": "code",
   "execution_count": 126,
   "metadata": {},
   "outputs": [
    {
     "data": {
      "text/plain": [
       "['ea', 'oo']"
      ]
     },
     "execution_count": 126,
     "metadata": {},
     "output_type": "execute_result"
    }
   ],
   "source": [
    "# find only if the vowel are consecutive\n",
    "doublevowelRegex = re.compile(r'[aeiouAeiou]{2}')\n",
    "doublevowelRegex.findall('Robocop eats baby food.')"
   ]
  },
  {
   "cell_type": "markdown",
   "metadata": {},
   "source": [
    "## Caret\n",
    "### ^ return negative character class when inside []"
   ]
  },
  {
   "cell_type": "code",
   "execution_count": 179,
   "metadata": {},
   "outputs": [
    {
     "data": {
      "text/plain": [
       "['R', 'b', 'c', 'p', ' ', 't', 's', ' ', 'b', 'b', 'y', ' ', 'f', 'd', '.']"
      ]
     },
     "execution_count": 179,
     "metadata": {},
     "output_type": "execute_result"
    }
   ],
   "source": [
    "vowelRegex = re.compile(r'[^aeiouAEIOU]')\n",
    "vowelRegex.findall('Robocop eats baby food.')"
   ]
  },
  {
   "cell_type": "markdown",
   "metadata": {},
   "source": [
    "### ^ states matches line if start with the following character.\n",
    "- finding the patter start with hello"
   ]
  },
  {
   "cell_type": "code",
   "execution_count": 184,
   "metadata": {},
   "outputs": [],
   "source": [
    "beginsWithHelloREgex = re.compile(r'^Hello')"
   ]
  },
  {
   "cell_type": "code",
   "execution_count": 185,
   "metadata": {},
   "outputs": [
    {
     "data": {
      "text/plain": [
       "<_sre.SRE_Match object; span=(0, 5), match='Hello'>"
      ]
     },
     "execution_count": 185,
     "metadata": {},
     "output_type": "execute_result"
    }
   ],
   "source": [
    "beginsWithHelloREgex.search('Hello there!')"
   ]
  },
  {
   "cell_type": "code",
   "execution_count": 190,
   "metadata": {},
   "outputs": [
    {
     "data": {
      "text/plain": [
       "True"
      ]
     },
     "execution_count": 190,
     "metadata": {},
     "output_type": "execute_result"
    }
   ],
   "source": [
    "mo = beginsWithHelloREgex.search('He said \"Hello\" there!')\n",
    "mo == None"
   ]
  },
  {
   "cell_type": "markdown",
   "metadata": {},
   "source": [
    "### Greedy Maching"
   ]
  },
  {
   "cell_type": "code",
   "execution_count": 103,
   "metadata": {},
   "outputs": [
    {
     "name": "stdout",
     "output_type": "stream",
     "text": [
      "['From: using the :']\n"
     ]
    }
   ],
   "source": [
    "x = '''From: using the : character,\n",
    "       From here it stop as it is new line'''\n",
    "\n",
    "# search word starts with F \n",
    "# followed by (.) any character expect new line\n",
    "# (+) one or more times\n",
    "# till : semicolan\n",
    "\n",
    "y = re.findall('^F.+:',x)\n",
    "print(y)"
   ]
  },
  {
   "cell_type": "markdown",
   "metadata": {},
   "source": [
    "### ? for non Greedy"
   ]
  },
  {
   "cell_type": "code",
   "execution_count": 104,
   "metadata": {},
   "outputs": [
    {
     "name": "stdout",
     "output_type": "stream",
     "text": [
      "['From:']\n"
     ]
    }
   ],
   "source": [
    "y = re.findall('^F.+?:',x)\n",
    "print(y)"
   ]
  },
  {
   "cell_type": "markdown",
   "metadata": {},
   "source": [
    "# $ to find the pattern at the end of string"
   ]
  },
  {
   "cell_type": "code",
   "execution_count": 192,
   "metadata": {},
   "outputs": [
    {
     "data": {
      "text/plain": [
       "<_sre.SRE_Match object; span=(6, 12), match='World!'>"
      ]
     },
     "execution_count": 192,
     "metadata": {},
     "output_type": "execute_result"
    }
   ],
   "source": [
    "endsWithWorldRegex = re.compile(r'World!$')\n",
    "\n",
    "endsWithWorldRegex.search('Hello World!')"
   ]
  },
  {
   "cell_type": "markdown",
   "metadata": {},
   "source": [
    "### matching string that start with one or more digit character and end with digit character"
   ]
  },
  {
   "cell_type": "code",
   "execution_count": 193,
   "metadata": {},
   "outputs": [
    {
     "data": {
      "text/plain": [
       "<_sre.SRE_Match object; span=(0, 7), match='1234567'>"
      ]
     },
     "execution_count": 193,
     "metadata": {},
     "output_type": "execute_result"
    }
   ],
   "source": [
    "alldigitRegex  = re.compile(r'^\\d+$')\n",
    "alldigitRegex.search('1234567')"
   ]
  },
  {
   "cell_type": "code",
   "execution_count": 195,
   "metadata": {},
   "outputs": [
    {
     "data": {
      "text/plain": [
       "True"
      ]
     },
     "execution_count": 195,
     "metadata": {},
     "output_type": "execute_result"
    }
   ],
   "source": [
    "alldigitRegex.search('1234dfgh567')==None"
   ]
  },
  {
   "cell_type": "markdown",
   "metadata": {},
   "source": [
    "## . Dot states any SINGLE character except new line\n",
    "searching anything followed by at"
   ]
  },
  {
   "cell_type": "code",
   "execution_count": 196,
   "metadata": {},
   "outputs": [
    {
     "data": {
      "text/plain": [
       "['cat', 'hat', 'sat', 'lat', 'mat']"
      ]
     },
     "execution_count": 196,
     "metadata": {},
     "output_type": "execute_result"
    }
   ],
   "source": [
    "atRegex = re.compile(r'.at')\n",
    "atRegex.findall('The cat in the hat sat on the flat mat.')"
   ]
  },
  {
   "cell_type": "markdown",
   "metadata": {},
   "source": [
    "### find all pattern start with 1 or 2 characterand end with at"
   ]
  },
  {
   "cell_type": "code",
   "execution_count": 198,
   "metadata": {},
   "outputs": [
    {
     "data": {
      "text/plain": [
       "[' cat', ' hat', ' sat', 'flat', ' mat']"
      ]
     },
     "execution_count": 198,
     "metadata": {},
     "output_type": "execute_result"
    }
   ],
   "source": [
    "atRegex = re.compile(r'.{1,2}at')\n",
    "atRegex.findall('The cat in the hat sat on the flat mat.')"
   ]
  },
  {
   "cell_type": "markdown",
   "metadata": {},
   "source": [
    "# .* pattern return any character starts with zero or more\n",
    "- finding the the **FIRST WORD** after First Name: and Last Name"
   ]
  },
  {
   "cell_type": "code",
   "execution_count": 206,
   "metadata": {},
   "outputs": [
    {
     "data": {
      "text/plain": [
       "[('Luffy', 'kuttu bachi')]"
      ]
     },
     "execution_count": 206,
     "metadata": {},
     "output_type": "execute_result"
    }
   ],
   "source": [
    "atRegex = re.compile(r'First Name: (.*) Last Name: (.*)')\n",
    "atRegex.findall('i have a son name is First Name: Luffy Last Name: kuttu bachi')\n",
    "\n",
    "\n"
   ]
  },
  {
   "cell_type": "code",
   "execution_count": 203,
   "metadata": {},
   "outputs": [
    {
     "data": {
      "text/plain": [
       "[('Luffy', 'kuttu bachi')]"
      ]
     },
     "execution_count": 203,
     "metadata": {},
     "output_type": "execute_result"
    }
   ],
   "source": [
    "atRegex = re.compile(r'First Name: (.*) Last Name: (.*)')\n",
    "atRegex.findall('i have a son name is First Name: Luffy Last Name: kuttu bachi')\n",
    "\n"
   ]
  },
  {
   "cell_type": "code",
   "execution_count": 216,
   "metadata": {},
   "outputs": [
    {
     "data": {
      "text/plain": [
       "[('Luffy', 'kuttu bachi')]"
      ]
     },
     "execution_count": 216,
     "metadata": {},
     "output_type": "execute_result"
    }
   ],
   "source": [
    "atRegex = re.compile(r'First Name: (.*) Last Name: {0,1}(.*)')\n",
    "atRegex.findall('i have a son name is First Name: Luffy Last Name: kuttu bachi')\n",
    "\n"
   ]
  },
  {
   "cell_type": "markdown",
   "metadata": {},
   "source": [
    "### .* is greedy \n",
    "- will find as much text to search as possible within < >\n",
    "  - ignoring the first > "
   ]
  },
  {
   "cell_type": "code",
   "execution_count": 209,
   "metadata": {},
   "outputs": [
    {
     "data": {
      "text/plain": [
       "['To serve humans> for dinner.']"
      ]
     },
     "execution_count": 209,
     "metadata": {},
     "output_type": "execute_result"
    }
   ],
   "source": [
    "serve = \"<To serve humans> for dinner.>\"\n",
    "nongreedy = re.compile(r'<(.*)>')\n",
    "nongreedy.findall(serve)"
   ]
  },
  {
   "cell_type": "markdown",
   "metadata": {},
   "source": [
    "### ? will search for non greedy pattern"
   ]
  },
  {
   "cell_type": "code",
   "execution_count": 208,
   "metadata": {},
   "outputs": [
    {
     "data": {
      "text/plain": [
       "['To serve humans']"
      ]
     },
     "execution_count": 208,
     "metadata": {},
     "output_type": "execute_result"
    }
   ],
   "source": [
    "serve = \"<To serve humans> for dinner.>\"\n",
    "nongreedy = re.compile(r'<(.*?)>')\n",
    "nongreedy.findall(serve)"
   ]
  },
  {
   "cell_type": "markdown",
   "metadata": {},
   "source": [
    "## .* search all character except the new line"
   ]
  },
  {
   "cell_type": "code",
   "execution_count": 218,
   "metadata": {},
   "outputs": [
    {
     "name": "stdout",
     "output_type": "stream",
     "text": [
      "Serve the public trust.\n",
      "Protect the innocent\n"
     ]
    }
   ],
   "source": [
    "prime = \"Serve the public trust.\\nProtect the innocent\"\n",
    "print(prime)"
   ]
  },
  {
   "cell_type": "code",
   "execution_count": 220,
   "metadata": {},
   "outputs": [
    {
     "data": {
      "text/plain": [
       "'Serve the public trust.'"
      ]
     },
     "execution_count": 220,
     "metadata": {},
     "output_type": "execute_result"
    }
   ],
   "source": [
    "dotStar = re.compile(r'.*')\n",
    "p = dotStar.search(prime)\n",
    "p.group()"
   ]
  },
  {
   "cell_type": "markdown",
   "metadata": {},
   "source": [
    "### re.DOTALL include all character including new line"
   ]
  },
  {
   "cell_type": "code",
   "execution_count": 221,
   "metadata": {},
   "outputs": [
    {
     "data": {
      "text/plain": [
       "'Serve the public trust.\\nProtect the innocent'"
      ]
     },
     "execution_count": 221,
     "metadata": {},
     "output_type": "execute_result"
    }
   ],
   "source": [
    "dotStar = re.compile(r'.*',re.DOTALL)\n",
    "p = dotStar.search(prime)\n",
    "p.group()"
   ]
  },
  {
   "cell_type": "markdown",
   "metadata": {},
   "source": [
    "## re.I search case in-sensetive searching"
   ]
  },
  {
   "cell_type": "code",
   "execution_count": 3,
   "metadata": {},
   "outputs": [
    {
     "data": {
      "text/plain": [
       "['i', 'a', 'u', 'a', 'i', 'i', 'e', 'u', 'e', 'e', 'a', 'a']"
      ]
     },
     "execution_count": 3,
     "metadata": {},
     "output_type": "execute_result"
    }
   ],
   "source": [
    "vowelRegex = re.compile(r'[aeiou]')\n",
    "vowelRegex.findall('Knight Samurai live by rules.Are waah')\n"
   ]
  },
  {
   "cell_type": "code",
   "execution_count": 233,
   "metadata": {},
   "outputs": [
    {
     "data": {
      "text/plain": [
       "['i', 'a', 'u', 'a', 'i', 'i', 'e', 'u', 'e', 'A', 'e', 'a', 'a', 'a']"
      ]
     },
     "execution_count": 233,
     "metadata": {},
     "output_type": "execute_result"
    }
   ],
   "source": [
    "vowelRegex = re.compile(r'[aeiou]',re.I)\n",
    "vowelRegex.findall('Knight Samurai live by rules.Are waaah')\n"
   ]
  },
  {
   "cell_type": "markdown",
   "metadata": {},
   "source": [
    "## \\S for non-blank character"
   ]
  },
  {
   "cell_type": "code",
   "execution_count": 111,
   "metadata": {},
   "outputs": [
    {
     "name": "stdout",
     "output_type": "stream",
     "text": [
      "['stephen.marquard@uctac.za']\n"
     ]
    }
   ],
   "source": [
    "x = 'From stephen.marquard@uctac.za Sat Jan 5 09:14:16 2008'\n",
    "\n",
    "y = re.findall('\\S+@\\S+',x)\n",
    "print(y)"
   ]
  },
  {
   "cell_type": "code",
   "execution_count": 113,
   "metadata": {},
   "outputs": [
    {
     "name": "stdout",
     "output_type": "stream",
     "text": [
      "['stephen.marquard@uctac.za']\n"
     ]
    }
   ],
   "source": [
    "y = re.findall('^From (\\S+@\\S+)',x)\n",
    "print(y)"
   ]
  },
  {
   "cell_type": "markdown",
   "metadata": {},
   "source": [
    "# sub() method and Verbose"
   ]
  },
  {
   "cell_type": "code",
   "execution_count": 236,
   "metadata": {},
   "outputs": [
    {
     "data": {
      "text/plain": [
       "['Agent Alice', 'Agent Bob']"
      ]
     },
     "execution_count": 236,
     "metadata": {},
     "output_type": "execute_result"
    }
   ],
   "source": [
    "namesRegex = re.compile(r'Agent \\w+')\n",
    "namesRegex.findall('Agent Alice gave the secret document to Agent Bob.')\n"
   ]
  },
  {
   "cell_type": "markdown",
   "metadata": {},
   "source": [
    "### replacing with sub method"
   ]
  },
  {
   "cell_type": "code",
   "execution_count": 237,
   "metadata": {},
   "outputs": [
    {
     "data": {
      "text/plain": [
       "'REDECTED gave the secret document to REDECTED.'"
      ]
     },
     "execution_count": 237,
     "metadata": {},
     "output_type": "execute_result"
    }
   ],
   "source": [
    "msg = 'Agent Alice gave the secret document to Agent Bob.'\n",
    "namesRegex.sub('REDECTED',msg)\n",
    "\n"
   ]
  },
  {
   "cell_type": "code",
   "execution_count": 240,
   "metadata": {},
   "outputs": [
    {
     "data": {
      "text/plain": [
       "['A', 'B']"
      ]
     },
     "execution_count": 240,
     "metadata": {},
     "output_type": "execute_result"
    }
   ],
   "source": [
    "\n",
    "# search 1 word character followed by zero or 1 word character\n",
    "namesRegex = re.compile(r'Agent (\\w)\\w*')\n",
    "namesRegex.findall(msg)\n",
    "\n"
   ]
  },
  {
   "cell_type": "code",
   "execution_count": 243,
   "metadata": {},
   "outputs": [
    {
     "data": {
      "text/plain": [
       "'Agent A**** gave the secret document to Agent B****.'"
      ]
     },
     "execution_count": 243,
     "metadata": {},
     "output_type": "execute_result"
    }
   ],
   "source": [
    "# \\1 will use the pattern from group 1 of match\n",
    "namesRegex.sub(r'Agent \\1****',msg)"
   ]
  },
  {
   "cell_type": "markdown",
   "metadata": {},
   "source": [
    "### selecting First 2"
   ]
  },
  {
   "cell_type": "code",
   "execution_count": 250,
   "metadata": {},
   "outputs": [
    {
     "data": {
      "text/plain": [
       "['Al', 'Bo']"
      ]
     },
     "execution_count": 250,
     "metadata": {},
     "output_type": "execute_result"
    }
   ],
   "source": [
    "namesRegex = re.compile(r'Agent (\\w\\w)\\w*')\n",
    "namesRegex.findall(msg)"
   ]
  },
  {
   "cell_type": "code",
   "execution_count": 251,
   "metadata": {},
   "outputs": [
    {
     "data": {
      "text/plain": [
       "'Agent Al**** gave the secret document to Agent Bo****.'"
      ]
     },
     "execution_count": 251,
     "metadata": {},
     "output_type": "execute_result"
    }
   ],
   "source": [
    "namesRegex.sub(r'Agent \\1****',msg)"
   ]
  },
  {
   "cell_type": "markdown",
   "metadata": {},
   "source": [
    "### selecting second word"
   ]
  },
  {
   "cell_type": "code",
   "execution_count": 253,
   "metadata": {},
   "outputs": [
    {
     "data": {
      "text/plain": [
       "['l', 'o']"
      ]
     },
     "execution_count": 253,
     "metadata": {},
     "output_type": "execute_result"
    }
   ],
   "source": [
    "namesRegex = re.compile(r'Agent \\w(\\w)\\w*')\n",
    "namesRegex.findall(msg)"
   ]
  },
  {
   "cell_type": "code",
   "execution_count": 255,
   "metadata": {},
   "outputs": [
    {
     "data": {
      "text/plain": [
       "'Agent l**** gave the secret document to Agent o****.'"
      ]
     },
     "execution_count": 255,
     "metadata": {},
     "output_type": "execute_result"
    }
   ],
   "source": [
    "namesRegex.sub(r'Agent \\1****',msg)"
   ]
  },
  {
   "cell_type": "code",
   "execution_count": 2,
   "metadata": {},
   "outputs": [
    {
     "name": "stdout",
     "output_type": "stream",
     "text": [
      "ji\n"
     ]
    }
   ],
   "source": [
    "print('ji')"
   ]
  },
  {
   "cell_type": "code",
   "execution_count": 14,
   "metadata": {},
   "outputs": [],
   "source": [
    "phoneNumRegex11 =re.compile(r'''\n",
    "(\\d\\d\\d-)|   # area code( with paranes, with dash)\n",
    "(\\(\\d\\d\\d\\) ) # -or- area code with paranes and no dash\n",
    "\\d\\d\\d       # first 3 digits\n",
    "-            # second dash\n",
    "\\d\\d\\d\\d     # last 4 digits\n",
    "\\sx\\d{2,4}   # extension, like x1234''', re.IGNORECASE | re.DOTALL | re.VERBOSE)\n"
   ]
  },
  {
   "cell_type": "code",
   "execution_count": 18,
   "metadata": {},
   "outputs": [
    {
     "data": {
      "text/plain": [
       "[('415-', ''), ('555-', ''), ('555-', '')]"
      ]
     },
     "execution_count": 18,
     "metadata": {},
     "output_type": "execute_result"
    }
   ],
   "source": [
    "message = 'Call me at (415-)555-1011 x1234 tomorrow. (415)-555-9999 is my office.'\n",
    "\n",
    "phoneNumRegex11.findall(message)"
   ]
  },
  {
   "cell_type": "markdown",
   "metadata": {},
   "source": [
    "# Project"
   ]
  },
  {
   "cell_type": "code",
   "execution_count": 19,
   "metadata": {},
   "outputs": [
    {
     "name": "stdout",
     "output_type": "stream",
     "text": [
      "Collecting pyperclip\n",
      "  Downloading pyperclip-1.8.0.tar.gz (16 kB)\n",
      "Building wheels for collected packages: pyperclip\n",
      "  Building wheel for pyperclip (setup.py) ... \u001b[?25ldone\n",
      "\u001b[?25h  Created wheel for pyperclip: filename=pyperclip-1.8.0-py3-none-any.whl size=8691 sha256=d3e8dd3b0884ad51ccf63c52a0b226ab8f24083140cda1fed211794818edbc12\n",
      "  Stored in directory: /Users/knight/Library/Caches/pip/wheels/26/30/fe/92e2d4b1301ba74c07ea09c9e4c08f5bf12bae9c30319d74c5\n",
      "Successfully built pyperclip\n",
      "Installing collected packages: pyperclip\n",
      "Successfully installed pyperclip-1.8.0\n",
      "Note: you may need to restart the kernel to use updated packages.\n"
     ]
    }
   ],
   "source": [
    "pip install pyperclip"
   ]
  },
  {
   "cell_type": "markdown",
   "metadata": {},
   "source": [
    "https://automatetheboringstuff.com/files/examplePhoneEmailDirectory.pdf"
   ]
  },
  {
   "cell_type": "code",
   "execution_count": 23,
   "metadata": {},
   "outputs": [
    {
     "data": {
      "text/plain": [
       "'Jessie Mckay jmckay67@aol.com 479-205-4874\\nTom Jordan tjordan@msn.com 678-560-3485\\nClayton Cross ccross20@gmail.com 724-900-2986\\nRayford Sutton rayfords66@hotmail.com 242-391-3183\\nJerome Gentry jgentry@me.com 604-720-6426\\nWeldon Camacho wcamacho57@icloud.com 651-807-8065\\nQuinton Franks qfranks@comcast.net 209-754-9111\\nAdam Hubbard cygzfjd61@outlook.com 641-433-6698\\nJarred Fox jfox39@live.com 701-528-9851\\nArnoldo Parker aparker39@sbcglobal.net 304-491-9583\\nSid Mcdaniel mcdanie3354@att.net 863-583-8107\\nRaymon Combs uqcwsntti71@att.net 507-948-3980\\nErvin Francis efrancis@optonline.net 546-367-3454\\nGilberto Austin austi363@optonline.net 321-854-5616\\nLino Barlow lbarlow22@me.com 904-896-2920\\nStacey Shepherd sshepherd61@sbcglobal.net 309-387-1990\\nRoscoe Terry rterry64@outlook.com 605-3'"
      ]
     },
     "execution_count": 23,
     "metadata": {},
     "output_type": "execute_result"
    }
   ],
   "source": [
    "import pyperclip\n",
    "\n",
    "text = pyperclip.paste()\n",
    "text"
   ]
  },
  {
   "cell_type": "code",
   "execution_count": 51,
   "metadata": {},
   "outputs": [
    {
     "data": {
      "text/plain": [
       "[('479-205-4874', '479', '479', '', '-', '', '', '', '', ''),\n",
       " ('678-560-3485', '678', '678', '', '-', '', '', '', '', ''),\n",
       " ('724-900-2986', '724', '724', '', '-', '', '', '', '', ''),\n",
       " ('242-391-3183', '242', '242', '', '-', '', '', '', '', ''),\n",
       " ('604-720-6426', '604', '604', '', '-', '', '', '', '', ''),\n",
       " ('651-807-8065', '651', '651', '', '-', '', '', '', '', ''),\n",
       " ('209-754-9111', '209', '209', '', '-', '', '', '', '', ''),\n",
       " ('641-433-6698', '641', '641', '', '-', '', '', '', '', ''),\n",
       " ('701-528-9851', '701', '701', '', '-', '', '', '', '', ''),\n",
       " ('304-491-9583', '304', '304', '', '-', '', '', '', '', ''),\n",
       " ('863-583-8107', '863', '863', '', '-', '', '', '', '', ''),\n",
       " ('507-948-3980', '507', '507', '', '-', '', '', '', '', ''),\n",
       " ('546-367-3454', '546', '546', '', '-', '', '', '', '', ''),\n",
       " ('321-854-5616', '321', '321', '', '-', '', '', '', '', ''),\n",
       " ('904-896-2920', '904', '904', '', '-', '', '', '', '', ''),\n",
       " ('309-387-1990', '309', '309', '', '-', '', '', '', '', '')]"
      ]
     },
     "execution_count": 51,
     "metadata": {},
     "output_type": "execute_result"
    }
   ],
   "source": [
    "phoneNumRegex12 = re.compile(r'''\n",
    "(\n",
    "((\\d\\d\\d)|(\\(\\d\\d\\d\\)))?  # area code optional\n",
    "(\\s|-)                    # first seperator\n",
    "\\d\\d\\d                    # first 3 digits\n",
    "-                         # seperator\n",
    "\\d\\d\\d\\d                  # last 4 digit\n",
    "(((ext(\\.)?\\s)|x)         # extension word-part (optional)\n",
    "(\\d{2,5}))?               # extension number-part (optional)\n",
    ")\n",
    "''',re.VERBOSE)\n",
    "ext_phone = phoneNumRegex12.findall(text)\n",
    "ext_phone"
   ]
  },
  {
   "cell_type": "code",
   "execution_count": 39,
   "metadata": {},
   "outputs": [
    {
     "data": {
      "text/plain": [
       "['jmckay67@aol.com',\n",
       " 'tjordan@msn.com',\n",
       " 'ccross20@gmail.com',\n",
       " 'rayfords66@hotmail.com',\n",
       " 'jgentry@me.com',\n",
       " 'wcamacho57@icloud.com',\n",
       " 'qfranks@comcast.net',\n",
       " 'cygzfjd61@outlook.com',\n",
       " 'jfox39@live.com',\n",
       " 'aparker39@sbcglobal.net',\n",
       " 'mcdanie3354@att.net',\n",
       " 'uqcwsntti71@att.net',\n",
       " 'efrancis@optonline.net',\n",
       " 'austi363@optonline.net',\n",
       " 'lbarlow22@me.com',\n",
       " 'sshepherd61@sbcglobal.net',\n",
       " 'rterry64@outlook.com']"
      ]
     },
     "execution_count": 39,
     "metadata": {},
     "output_type": "execute_result"
    }
   ],
   "source": [
    "emailREgex = re.compile(r'''\n",
    "[a-zA-Z0-9_.+]+\n",
    "@\n",
    "[a-zA-Z0-9_.+]+\n",
    "''',re.VERBOSE)\n",
    "emailREgex.findall(text)"
   ]
  },
  {
   "cell_type": "markdown",
   "metadata": {},
   "source": [
    "#### \\w = [a-zA-Z0-9_]\n",
    "- Matches any alphanumeric character (digits and alphabets). "
   ]
  },
  {
   "cell_type": "code",
   "execution_count": 41,
   "metadata": {},
   "outputs": [
    {
     "data": {
      "text/plain": [
       "['jmckay67@aol',\n",
       " 'tjordan@msn',\n",
       " 'ccross20@gmail',\n",
       " 'rayfords66@hotmail',\n",
       " 'jgentry@me',\n",
       " 'wcamacho57@icloud',\n",
       " 'qfranks@comcast',\n",
       " 'cygzfjd61@outlook',\n",
       " 'jfox39@live',\n",
       " 'aparker39@sbcglobal',\n",
       " 'mcdanie3354@att',\n",
       " 'uqcwsntti71@att',\n",
       " 'efrancis@optonline',\n",
       " 'austi363@optonline',\n",
       " 'lbarlow22@me',\n",
       " 'sshepherd61@sbcglobal',\n",
       " 'rterry64@outlook']"
      ]
     },
     "execution_count": 41,
     "metadata": {},
     "output_type": "execute_result"
    }
   ],
   "source": [
    "emailREgex = re.compile(r'''\n",
    "\\w+\n",
    "@\n",
    "\\w+\n",
    "''',re.VERBOSE)\n",
    "emailREgex.findall(text)"
   ]
  },
  {
   "cell_type": "code",
   "execution_count": 67,
   "metadata": {},
   "outputs": [],
   "source": [
    "tx = '''Jessie Mckay jmckay67@aol.com 479-205-4874, \n",
    "579 205-4874,\n",
    " 555-0000,\n",
    "(679) 555-0000,\n",
    "205-000 ext 1234,\n",
    "222-000 ext. 1234\n",
    "005-000 x1234''' "
   ]
  },
  {
   "cell_type": "code",
   "execution_count": 68,
   "metadata": {},
   "outputs": [
    {
     "data": {
      "text/plain": [
       "[('479-205-4874', '479', '479', '', '-', '', '', '', '', ''),\n",
       " ('579 205-4874', '579', '579', '', ' ', '', '', '', '', ''),\n",
       " (' 555-0000', '', '', '', ' ', '', '', '', '', ''),\n",
       " ('(679) 555-0000', '(679)', '', '(679)', ' ', '', '', '', '', '')]"
      ]
     },
     "execution_count": 68,
     "metadata": {},
     "output_type": "execute_result"
    }
   ],
   "source": [
    "phoneNumRegex12 = re.compile(r'''\n",
    "(\n",
    "((\\d\\d\\d)|(\\(\\d\\d\\d\\)))?  # area code optional\n",
    "(\\s|-)                    # first seperator\n",
    "\\d\\d\\d                    # first 3 digits\n",
    "-                         # seperator\n",
    "\\d\\d\\d\\d                  # last 4 digit\n",
    "(((ext(\\.)?\\s)|x)         # extension word-part (optional)\n",
    "(\\d{2,5}))?               # extension number-part (optional)\n",
    ")\n",
    "''',re.VERBOSE)\n",
    "ext_phone = phoneNumRegex12.findall(tx)\n",
    "ext_phone"
   ]
  },
  {
   "cell_type": "code",
   "execution_count": 69,
   "metadata": {},
   "outputs": [
    {
     "name": "stdout",
     "output_type": "stream",
     "text": [
      "['479-205-4874', '579 205-4874', ' 555-0000', '(679) 555-0000']\n"
     ]
    }
   ],
   "source": [
    "ex_num =[]\n",
    "for num in ext_phone:\n",
    "    ex_num.append(num[0])\n",
    "print(ex_num)"
   ]
  },
  {
   "cell_type": "code",
   "execution_count": 84,
   "metadata": {},
   "outputs": [
    {
     "data": {
      "text/plain": [
       "['(123)']"
      ]
     },
     "execution_count": 84,
     "metadata": {},
     "output_type": "execute_result"
    }
   ],
   "source": [
    "numb = re.compile('\\(\\d\\d\\d\\)')\n",
    "\n",
    "x = '(123)'\n",
    "numb.findall(x)"
   ]
  },
  {
   "cell_type": "markdown",
   "metadata": {},
   "source": [
    "backlash then bracket simply search bracket"
   ]
  },
  {
   "cell_type": "code",
   "execution_count": 85,
   "metadata": {},
   "outputs": [
    {
     "data": {
      "text/plain": [
       "['123']"
      ]
     },
     "execution_count": 85,
     "metadata": {},
     "output_type": "execute_result"
    }
   ],
   "source": [
    "numb = re.compile('(\\d\\d\\d)')\n",
    "\n",
    "x = '(123)'\n",
    "numb.findall(x)"
   ]
  },
  {
   "cell_type": "code",
   "execution_count": 81,
   "metadata": {},
   "outputs": [
    {
     "data": {
      "text/plain": [
       "['123']"
      ]
     },
     "execution_count": 81,
     "metadata": {},
     "output_type": "execute_result"
    }
   ],
   "source": [
    "numb = re.compile('\\d\\d\\d')\n",
    "\n",
    "x = '123'\n",
    "numb.findall(x)"
   ]
  },
  {
   "cell_type": "markdown",
   "metadata": {},
   "source": [
    "# String Parsing\n",
    "## using find and string slicing"
   ]
  },
  {
   "cell_type": "code",
   "execution_count": 118,
   "metadata": {},
   "outputs": [
    {
     "data": {
      "text/plain": [
       "21"
      ]
     },
     "execution_count": 118,
     "metadata": {},
     "output_type": "execute_result"
    }
   ],
   "source": [
    "data = 'From stephen.marquard@uctac.za Sat Jan 5 09:14:16 2008'\n",
    "\n",
    "at_position = data.find(f'@')\n",
    "at_position"
   ]
  },
  {
   "cell_type": "code",
   "execution_count": 116,
   "metadata": {},
   "outputs": [
    {
     "data": {
      "text/plain": [
       "30"
      ]
     },
     "execution_count": 116,
     "metadata": {},
     "output_type": "execute_result"
    }
   ],
   "source": [
    "space_position = data.find(f' ',at_position)\n",
    "space_position"
   ]
  },
  {
   "cell_type": "code",
   "execution_count": 117,
   "metadata": {},
   "outputs": [
    {
     "data": {
      "text/plain": [
       "'uctac.za'"
      ]
     },
     "execution_count": 117,
     "metadata": {},
     "output_type": "execute_result"
    }
   ],
   "source": [
    "host = data[at_position+1 : space_position]\n",
    "host"
   ]
  },
  {
   "cell_type": "markdown",
   "metadata": {},
   "source": [
    "# Double Split Pattern\n",
    "sometimes we split a line one way, and then grab one of the pieces of the line and split that piece again"
   ]
  },
  {
   "cell_type": "code",
   "execution_count": 122,
   "metadata": {},
   "outputs": [
    {
     "data": {
      "text/plain": [
       "['From', 'stephen.marquard@uctac.za', 'Sat', 'Jan', '5', '09:14:16', '2008']"
      ]
     },
     "execution_count": 122,
     "metadata": {},
     "output_type": "execute_result"
    }
   ],
   "source": [
    "words = data.split()\n",
    "words"
   ]
  },
  {
   "cell_type": "code",
   "execution_count": 124,
   "metadata": {},
   "outputs": [
    {
     "data": {
      "text/plain": [
       "'stephen.marquard@uctac.za'"
      ]
     },
     "execution_count": 124,
     "metadata": {},
     "output_type": "execute_result"
    }
   ],
   "source": [
    "email = words[1]\n",
    "email"
   ]
  },
  {
   "cell_type": "code",
   "execution_count": 125,
   "metadata": {},
   "outputs": [
    {
     "name": "stdout",
     "output_type": "stream",
     "text": [
      "['stephen.marquard', 'uctac.za']\n"
     ]
    }
   ],
   "source": [
    "pieces = email.split('@')\n",
    "print(pieces)"
   ]
  },
  {
   "cell_type": "code",
   "execution_count": 126,
   "metadata": {},
   "outputs": [
    {
     "name": "stdout",
     "output_type": "stream",
     "text": [
      "uctac.za\n"
     ]
    }
   ],
   "source": [
    "print(pieces[1])"
   ]
  },
  {
   "cell_type": "markdown",
   "metadata": {},
   "source": [
    "# REgex Version"
   ]
  },
  {
   "cell_type": "markdown",
   "metadata": {},
   "source": [
    "[^] is except given pattern in bracket\n",
    "- [^SPACE] is non blank same as \\S"
   ]
  },
  {
   "cell_type": "code",
   "execution_count": 130,
   "metadata": {},
   "outputs": [
    {
     "data": {
      "text/plain": [
       "['d', 't']"
      ]
     },
     "execution_count": 130,
     "metadata": {},
     "output_type": "execute_result"
    }
   ],
   "source": [
    "y = re.compile(f'[^a]')\n",
    "y.findall('data')"
   ]
  },
  {
   "cell_type": "code",
   "execution_count": 127,
   "metadata": {},
   "outputs": [
    {
     "data": {
      "text/plain": [
       "['@uctac.za']"
      ]
     },
     "execution_count": 127,
     "metadata": {},
     "output_type": "execute_result"
    }
   ],
   "source": [
    "y = re.compile(f'@[^ ]*')\n",
    "y.findall(data)"
   ]
  },
  {
   "cell_type": "code",
   "execution_count": 128,
   "metadata": {},
   "outputs": [
    {
     "data": {
      "text/plain": [
       "['@uctac.za']"
      ]
     },
     "execution_count": 128,
     "metadata": {},
     "output_type": "execute_result"
    }
   ],
   "source": [
    "y = re.compile(f'@\\S*')\n",
    "y.findall(data)"
   ]
  },
  {
   "cell_type": "code",
   "execution_count": 133,
   "metadata": {},
   "outputs": [
    {
     "data": {
      "text/plain": [
       "['uctac.za']"
      ]
     },
     "execution_count": 133,
     "metadata": {},
     "output_type": "execute_result"
    }
   ],
   "source": [
    "re.findall(f'^From .*@([^ ]*)',data)"
   ]
  },
  {
   "cell_type": "code",
   "execution_count": 134,
   "metadata": {},
   "outputs": [
    {
     "data": {
      "text/plain": [
       "['$10.00']"
      ]
     },
     "execution_count": 134,
     "metadata": {},
     "output_type": "execute_result"
    }
   ],
   "source": [
    "x = 'We recieved $10.00 for cookies'\n",
    "y = re.findall('\\$[0-9.]+',x)\n",
    "y"
   ]
  },
  {
   "cell_type": "code",
   "execution_count": 22,
   "metadata": {},
   "outputs": [
    {
     "data": {
      "text/plain": [
       "'$10,00'"
      ]
     },
     "execution_count": 22,
     "metadata": {},
     "output_type": "execute_result"
    }
   ],
   "source": [
    "x = 'We recieved $10,00 for cookies'\n",
    "y = re.findall('\\$[0-9,]+',x)\n",
    "\" \".join(y)"
   ]
  },
  {
   "cell_type": "markdown",
   "metadata": {},
   "source": [
    "# Reading the dollar and ponds"
   ]
  },
  {
   "cell_type": "code",
   "execution_count": 37,
   "metadata": {},
   "outputs": [
    {
     "data": {
      "text/plain": [
       "40"
      ]
     },
     "execution_count": 37,
     "metadata": {},
     "output_type": "execute_result"
    }
   ],
   "source": [
    "import PyPDF2\n",
    "pdf1File = open('combineminutes.pdf', 'rb')\n",
    "reader1 = PyPDF2.PdfFileReader(pdf1File)\n",
    "reader1.numPages"
   ]
  },
  {
   "cell_type": "code",
   "execution_count": null,
   "metadata": {},
   "outputs": [],
   "source": [
    "import re\n",
    "\n",
    "for pageNum in range(reader1.numPages):\n",
    "    text = reader1.getPage(pageNum).extractText()\n",
    "    y = re.findall('\\$[0-9,]+',text)\n",
    "    z = re.findall('\\§[0-9,]+',text)\n",
    "    if y:\n",
    "        print(f'{y} \"\\n\" page_number {pageNum}\"\\n\"')\n",
    "    elif z:\n",
    "        print(f'{z}\"\\n\" page_number {pageNum} \"\\n\"')"
   ]
  },
  {
   "cell_type": "code",
   "execution_count": 69,
   "metadata": {},
   "outputs": [],
   "source": [
    "def Extract_dollor(name):\n",
    "    \n",
    "    import PyPDF2\n",
    "    import re\n",
    "    \n",
    "    pdf1File = open(name, 'rb')\n",
    "    reader1 = PyPDF2.PdfFileReader(pdf1File)\n",
    "\n",
    "    \n",
    "    for pageNum in range(reader1.numPages):\n",
    "        text = reader1.getPage(pageNum).extractText()\n",
    "        y = re.findall('\\$[0-9,]+',text)\n",
    "        z = re.findall('\\§[0-9,]+',text)\n",
    "        if y:\n",
    "            print(f'{y} \"\\n\" page_number {pageNum+1}\"\\n\"')\n",
    "        elif z:\n",
    "            print(f'{z}\"\\n\" page_number {pageNum+1} \"\\n\"')"
   ]
  },
  {
   "cell_type": "code",
   "execution_count": 70,
   "metadata": {},
   "outputs": [
    {
     "name": "stdout",
     "output_type": "stream",
     "text": [
      "['§2509']\"\n",
      "\" page_number 3 \"\n",
      "\"\n",
      "['§101', '§201', '§301', '§303', '§305', '§409', '§613', '§501', '§505', '§505', '§506', '§507', '§507', '§509', '§509', '§511', '§504', '§701', '§2209', '§3501', '§2317', '§2318']\"\n",
      "\" page_number 4 \"\n",
      "\"\n",
      "['$50,000'] \"\n",
      "\" page_number 5\"\n",
      "\"\n",
      "['$250,000'] \"\n",
      "\" page_number 7\"\n",
      "\"\n",
      "['$1,893', '$676,666'] \"\n",
      "\" page_number 8\"\n",
      "\"\n",
      "['$102,734'] \"\n",
      "\" page_number 9\"\n",
      "\"\n",
      "['$196,252', '$360,000', '$38,400', '$398,400'] \"\n",
      "\" page_number 10\"\n",
      "\"\n",
      "['$639,000', '$133,800', '$772,800', '$240,000', '$6,000', '$246,000', '$180,000', '$8,400', '$188,400'] \"\n",
      "\" page_number 11\"\n",
      "\"\n",
      "['$492,000', '$74,400', '$566,400', '$79,500', '$25,500', '$105,000'] \"\n",
      "\" page_number 12\"\n",
      "\"\n",
      "['$1,473,321', '$15,433', '$1,488,754', '$105,034', '$23,5', '$1,069,673'] \"\n",
      "\" page_number 13\"\n",
      "\"\n",
      "['$24,660,431', '$35,640', '$21,390', '$57,030', '$262,656', '$8,032', '$270,688'] \"\n",
      "\" page_number 14\"\n",
      "\"\n",
      "['$49,500', '$14,640', '$64,140', '$2,696,406', '$265,287', '$20,625', '$285,912'] \"\n",
      "\" page_number 15\"\n",
      "\"\n",
      "['$944,413', '$38,546', '$982,959', '$1,151,421', '$5,500', '$1,156,921'] \"\n",
      "\" page_number 16\"\n",
      "\"\n",
      "['$361,334', '$378,871'] \"\n",
      "\" page_number 17\"\n",
      "\"\n",
      "['§103', '§105', '§505', '§1101', '§1103', '§1303', '§1503', '§1903']\"\n",
      "\" page_number 18 \"\n",
      "\"\n",
      "['§1905', '§2301', '§2303', '§2713', '§2907', '§2909']\"\n",
      "\" page_number 19 \"\n",
      "\"\n",
      "['§2318', '§2333', '§2341', '§2345', '§2353', '§2355', '§2361', '§2363', '§2369']\"\n",
      "\" page_number 23 \"\n",
      "\"\n",
      "['$50,000'] \"\n",
      "\" page_number 26\"\n",
      "\"\n",
      "['$50,000', '$1,929,935'] \"\n",
      "\" page_number 27\"\n",
      "\"\n",
      "['$110,000'] \"\n",
      "\" page_number 28\"\n",
      "\"\n",
      "['$40,860', '$735', '$872'] \"\n",
      "\" page_number 29\"\n",
      "\"\n",
      "['$1,210,712', '$150,000', '$500,000', '$650,000', '$20,000', '$250,000', '$270,000'] \"\n",
      "\" page_number 30\"\n",
      "\"\n",
      "['$125,000'] \"\n",
      "\" page_number 31\"\n",
      "\"\n",
      "['$296,940', '$1,501,954', '$101,399', '$1,603,353', '$800,000'] \"\n",
      "\" page_number 32\"\n",
      "\"\n",
      "['$41,220', '$41,220', '$82,440', '$95,478', '$38', '$95,516', '$116,835'] \"\n",
      "\" page_number 33\"\n",
      "\"\n",
      "['$324,260', '$204,015', '$232,753'] \"\n",
      "\" page_number 34\"\n",
      "\"\n",
      "['$113,614', '$155,901', '$63,000'] \"\n",
      "\" page_number 35\"\n",
      "\"\n",
      "['$1,909,248', '$22,000', '$1,931,248', '$2,491,580', '$54,214', '$2,545,794'] \"\n",
      "\" page_number 36\"\n",
      "\"\n",
      "['$10,200,000', '$1,703,000', '$1,000,000'] \"\n",
      "\" page_number 37\"\n",
      "\"\n",
      "['§105', '§107', '§307', '§701', '§1301']\"\n",
      "\" page_number 39 \"\n",
      "\"\n"
     ]
    }
   ],
   "source": [
    "Extract_dollor('combineminutes.pdf')"
   ]
  },
  {
   "cell_type": "code",
   "execution_count": 67,
   "metadata": {},
   "outputs": [],
   "source": [
    "def Extract_Num_Mail(name):\n",
    "    \n",
    "    import PyPDF2\n",
    "    import re\n",
    "    \n",
    "    pdf1File = open(name, 'rb')\n",
    "    reader1 = PyPDF2.PdfFileReader(pdf1File)\n",
    "\n",
    "    \n",
    "    for pageNum in range(reader1.numPages):\n",
    "        text = reader1.getPage(pageNum).extractText()\n",
    "        y = re.findall('\\+91\\s[0-9]+\\s[0-9]+',text)\n",
    "        z = re.findall('[a-zA-Z0-9_.+]+@[a-zA-Z0-9_.+]+',t)\n",
    "        if y:\n",
    "            print(f'{y} \"\\n\" page_number {pageNum+1}\"\\n\"')\n",
    "        elif z:\n",
    "            print(f'{z}\"\\n\" page_number {pageNum+1} \"\\n\"')"
   ]
  },
  {
   "cell_type": "code",
   "execution_count": 68,
   "metadata": {},
   "outputs": [
    {
     "name": "stdout",
     "output_type": "stream",
     "text": [
      "['products@peepalfarm.org', 'namaste@peepalfarm.org']\"\n",
      "\" page_number 1 \"\n",
      "\"\n",
      "['+91 78077 62910'] \"\n",
      "\" page_number 2\"\n",
      "\"\n"
     ]
    }
   ],
   "source": [
    "Extract_Num_Mail('sample.pdf')"
   ]
  },
  {
   "cell_type": "code",
   "execution_count": 44,
   "metadata": {},
   "outputs": [],
   "source": [
    "t = \"\"\"\n",
    "this is the farme here we do some good work and would like to inspire people tp do the same. \n",
    "Our contact information is +91 99994 29144, mail address is products@peepalfarm.org and if you \n",
    "like you can also contact ur on namaste@peepalfarm.org\"\"\""
   ]
  },
  {
   "cell_type": "code",
   "execution_count": 59,
   "metadata": {},
   "outputs": [
    {
     "data": {
      "text/plain": [
       "['+91 99994 29144']"
      ]
     },
     "execution_count": 59,
     "metadata": {},
     "output_type": "execute_result"
    }
   ],
   "source": [
    "y = re.findall('\\+91\\s[0-9]+\\s[0-9]+',t)\n",
    "y"
   ]
  },
  {
   "cell_type": "code",
   "execution_count": 63,
   "metadata": {},
   "outputs": [
    {
     "data": {
      "text/plain": [
       "['products@peepalfarm.org', 'namaste@peepalfarm.org']"
      ]
     },
     "execution_count": 63,
     "metadata": {},
     "output_type": "execute_result"
    }
   ],
   "source": [
    "x = re.findall('[a-zA-Z0-9_.+]+@[a-zA-Z0-9_.+]+',t)\n",
    "x"
   ]
  },
  {
   "cell_type": "code",
   "execution_count": 274,
   "metadata": {},
   "outputs": [
    {
     "name": "stdout",
     "output_type": "stream",
     "text": [
      "[\"page_number_2 ['§2509']\", \"page_number_3 ['§101', '§201', '§301', '§303', '§305', '§409', '§613', '§501', '§505', '§505', '§506', '§507', '§507', '§509', '§509', '§511', '§504', '§701', '§2209', '§3501', '§2317', '§2318']\", \"page_number_4 ['$50,000']\", \"page_number_6 ['$250,000']\", \"page_number_7 ['$1,893', '$676,666']\", \"page_number_8 ['$102,734']\", \"page_number_9 ['$196,252', '$360,000', '$38,400', '$398,400']\", \"page_number_10 ['$639,000', '$133,800', '$772,800', '$240,000', '$6,000', '$246,000', '$180,000', '$8,400', '$188,400']\", \"page_number_11 ['$492,000', '$74,400', '$566,400', '$79,500', '$25,500', '$105,000']\", \"page_number_12 ['$1,473,321', '$15,433', '$1,488,754', '$105,034', '$23,5', '$1,069,673']\", \"page_number_13 ['$24,660,431', '$35,640', '$21,390', '$57,030', '$262,656', '$8,032', '$270,688']\", \"page_number_14 ['$49,500', '$14,640', '$64,140', '$2,696,406', '$265,287', '$20,625', '$285,912']\", \"page_number_15 ['$944,413', '$38,546', '$982,959', '$1,151,421', '$5,500', '$1,156,921']\", \"page_number_16 ['$361,334', '$378,871']\", \"page_number_17 ['§103', '§105', '§505', '§1101', '§1103', '§1303', '§1503', '§1903']\", \"page_number_18 ['§1905', '§2301', '§2303', '§2713', '§2907', '§2909']\", \"page_number_22 ['§2318', '§2333', '§2341', '§2345', '§2353', '§2355', '§2361', '§2363', '§2369']\", \"page_number_25 ['$50,000']\", \"page_number_26 ['$50,000', '$1,929,935']\", \"page_number_27 ['$110,000']\", \"page_number_28 ['$40,860', '$735', '$872']\", \"page_number_29 ['$1,210,712', '$150,000', '$500,000', '$650,000', '$20,000', '$250,000', '$270,000']\", \"page_number_30 ['$125,000']\", \"page_number_31 ['$296,940', '$1,501,954', '$101,399', '$1,603,353', '$800,000']\", \"page_number_32 ['$41,220', '$41,220', '$82,440', '$95,478', '$38', '$95,516', '$116,835']\", \"page_number_33 ['$324,260', '$204,015', '$232,753']\", \"page_number_34 ['$113,614', '$155,901', '$63,000']\", \"page_number_35 ['$1,909,248', '$22,000', '$1,931,248', '$2,491,580', '$54,214', '$2,545,794']\", \"page_number_36 ['$10,200,000', '$1,703,000', '$1,000,000']\", \"page_number_38 ['§105', '§107', '§307', '§701', '§1301']\"]\n"
     ]
    }
   ],
   "source": [
    "li = []\n",
    "for pageNum in range(reader1.numPages):\n",
    "    text = reader1.getPage(pageNum).extractText()\n",
    "    y = re.findall('\\$[0-9,]+',text)\n",
    "    z = re.findall('\\§[0-9,]+',text)\n",
    "    if y:\n",
    "        li.append(f'page_number_{pageNum} {y}')\n",
    "    elif z:\n",
    "        li.append(f'page_number_{pageNum} {z}')\n",
    "print(li)"
   ]
  },
  {
   "cell_type": "markdown",
   "metadata": {},
   "source": [
    "### Removing the comma"
   ]
  },
  {
   "cell_type": "code",
   "execution_count": 300,
   "metadata": {},
   "outputs": [
    {
     "data": {
      "text/plain": [
       "\"['$50000' '$250000' '$1893' '$676666' '$102734' '$196252' '$360000' '$38400' '$398400' '$639000' '$133800' '$772800' '$240000' '$6000' '$246000' '$180000' '$8400' '$188400' '$492000' '$74400' '$566400' '$79500' '$25500' '$105000' '$1473' '$15433' '$1488' '$105034' '$235' '$1069' '$24660' '$35640' '$21390' '$57030' '$262656' '$8032' '$270688' '$49500' '$14640' '$64140' '$2696' '$265287' '$20625' '$285912' '$944413' '$38546' '$982959' '$1151' '$5500' '$1156' '$361334' '$378871' '$50000' '$50000' '$1929' '$110000' '$40860' '$1210' '$150000' '$500000' '$650000' '$20000' '$250000' '$270000' '$125000' '$296940' '$1501' '$101399' '$1603' '$800000' '$41220' '$41220' '$82440' '$95478' '$95516' '$116835' '$324260' '$204015' '$232753' '$113614' '$155901' '$63000' '$1909' '$22000' '$1931' '$2491' '$54214' '$2545' '$10200' '$1703' '$1000']\""
      ]
     },
     "execution_count": 300,
     "metadata": {},
     "output_type": "execute_result"
    }
   ],
   "source": [
    "tt = re.findall('\\$+[0-9]+\\,[0-9]+|\\§+[0-9]+\\,[0-9]+',str(li))\n",
    "new_t = str(tt).replace(',', '')\n",
    "new_t"
   ]
  },
  {
   "cell_type": "code",
   "execution_count": 302,
   "metadata": {},
   "outputs": [
    {
     "data": {
      "text/plain": [
       "[\"page_number_2 ['§2509']\",\n",
       " \"page_number_3 ['§101', '§201', '§301', '§303', '§305', '§409', '§613', '§501', '§505', '§505', '§506', '§507', '§507', '§509', '§509', '§511', '§504', '§701', '§2209', '§3501', '§2317', '§2318']\",\n",
       " \"page_number_4 ['$50000']\",\n",
       " \"page_number_6 ['$250000']\",\n",
       " \"page_number_7 ['$1893' '$676666']\",\n",
       " \"page_number_8 ['$102734']\",\n",
       " \"page_number_9 ['$196252' '$360000' '$38400' '$398400']\",\n",
       " \"page_number_10 ['$639000' '$133800' '$772800' '$240000' '$6000' '$246000' '$180000' '$8400' '$188400']\",\n",
       " \"page_number_11 ['$492000' '$74400' '$566400' '$79500' '$25500' '$105000']\",\n",
       " \"page_number_12 ['$1473321' '$15433' '$1488754' '$105034' '$235' '$1069673']\",\n",
       " \"page_number_13 ['$24660431' '$35640' '$21390' '$57030' '$262656' '$8032' '$270688']\",\n",
       " \"page_number_14 ['$49500' '$14640' '$64140' '$2696406' '$265287' '$20625' '$285912']\",\n",
       " \"page_number_15 ['$944413' '$38546' '$982959' '$1151421' '$5500' '$1156921']\",\n",
       " \"page_number_16 ['$361334' '$378871']\",\n",
       " \"page_number_17 ['§103', '§105', '§505', '§1101', '§1103', '§1303', '§1503', '§1903']\",\n",
       " \"page_number_18 ['§1905', '§2301', '§2303', '§2713', '§2907', '§2909']\",\n",
       " \"page_number_22 ['§2318', '§2333', '§2341', '§2345', '§2353', '§2355', '§2361', '§2363', '§2369']\",\n",
       " \"page_number_25 ['$50000']\",\n",
       " \"page_number_26 ['$50000' '$1929935']\",\n",
       " \"page_number_27 ['$110000']\",\n",
       " \"page_number_28 ['$40860' '$735' '$872']\",\n",
       " \"page_number_29 ['$1210712' '$150000' '$500000' '$650000' '$20000' '$250000' '$270000']\",\n",
       " \"page_number_30 ['$125000']\",\n",
       " \"page_number_31 ['$296940' '$1501954' '$101399' '$1603353' '$800000']\",\n",
       " \"page_number_32 ['$41220' '$41220' '$82440' '$95478' '$38' '$95516' '$116835']\",\n",
       " \"page_number_33 ['$324260' '$204015' '$232753']\",\n",
       " \"page_number_34 ['$113614' '$155901' '$63000']\",\n",
       " \"page_number_35 ['$1909248' '$22000' '$1931248' '$2491580' '$54214' '$2545794']\",\n",
       " \"page_number_36 ['$10200000' '$1703000' '$1000000']\",\n",
       " \"page_number_38 ['§105', '§107', '§307', '§701', '§1301']\"]"
      ]
     },
     "execution_count": 302,
     "metadata": {},
     "output_type": "execute_result"
    }
   ],
   "source": [
    "new_t = []\n",
    "for fd in li:\n",
    "    if re.findall('\\$+[0-9]+\\,[0-9]+|\\§+[0-9]+\\,[0-9]+',str(fd)):\n",
    "        new_t.append(str(fd).replace(',', ''))\n",
    "    else:\n",
    "        new_t.append(fd)\n",
    "new_t"
   ]
  },
  {
   "cell_type": "markdown",
   "metadata": {},
   "source": [
    "### Removing the commas from whole text extracted"
   ]
  },
  {
   "cell_type": "code",
   "execution_count": 212,
   "metadata": {},
   "outputs": [
    {
     "name": "stdout",
     "output_type": "stream",
     "text": [
      "[\"page_number_2 ['§2509']\" \"page_number_3 ['§101' '§201' '§301' '§303' '§305' '§409' '§613' '§501' '§505' '§505' '§506' '§507' '§507' '§509' '§509' '§511' '§504' '§701' '§2209' '§3501' '§2317' '§2318']\" \"page_number_4 ['$50000']\" \"page_number_6 ['$250000']\" \"page_number_7 ['$1893' '$676666']\" \"page_number_8 ['$102734']\" \"page_number_9 ['$196252' '$360000' '$38400' '$398400']\" \"page_number_10 ['$639000' '$133800' '$772800' '$240000' '$6000' '$246000' '$180000' '$8400' '$188400']\" \"page_number_11 ['$492000' '$74400' '$566400' '$79500' '$25500' '$105000']\" \"page_number_12 ['$1473321' '$15433' '$1488754' '$105034' '$235' '$1069673']\" \"page_number_13 ['$24660431' '$35640' '$21390' '$57030' '$262656' '$8032' '$270688']\" \"page_number_14 ['$49500' '$14640' '$64140' '$2696406' '$265287' '$20625' '$285912']\" \"page_number_15 ['$944413' '$38546' '$982959' '$1151421' '$5500' '$1156921']\" \"page_number_16 ['$361334' '$378871']\" \"page_number_17 ['§103' '§105' '§505' '§1101' '§1103' '§1303' '§1503' '§1903']\" \"page_number_18 ['§1905' '§2301' '§2303' '§2713' '§2907' '§2909']\" \"page_number_22 ['§2318' '§2333' '§2341' '§2345' '§2353' '§2355' '§2361' '§2363' '§2369']\" \"page_number_25 ['$50000']\" \"page_number_26 ['$50000' '$1929935']\" \"page_number_27 ['$110000']\" \"page_number_28 ['$40860' '$735' '$872']\" \"page_number_29 ['$1210712' '$150000' '$500000' '$650000' '$20000' '$250000' '$270000']\" \"page_number_30 ['$125000']\" \"page_number_31 ['$296940' '$1501954' '$101399' '$1603353' '$800000']\" \"page_number_32 ['$41220' '$41220' '$82440' '$95478' '$38' '$95516' '$116835']\" \"page_number_33 ['$324260' '$204015' '$232753']\" \"page_number_34 ['$113614' '$155901' '$63000']\" \"page_number_35 ['$1909248' '$22000' '$1931248' '$2491580' '$54214' '$2545794']\" \"page_number_36 ['$10200000' '$1703000' '$1000000']\" \"page_number_38 ['§105' '§107' '§307' '§701' '§1301']\"]\n"
     ]
    }
   ],
   "source": [
    "new_t = str(li).replace(',', '')\n",
    "print(new_t)"
   ]
  },
  {
   "cell_type": "code",
   "execution_count": 193,
   "metadata": {},
   "outputs": [
    {
     "name": "stdout",
     "output_type": "stream",
     "text": [
      "page_number_2 ['§2509']\n"
     ]
    }
   ],
   "source": [
    "print(li[0])"
   ]
  },
  {
   "cell_type": "code",
   "execution_count": 194,
   "metadata": {},
   "outputs": [],
   "source": [
    "def Extract(name):\n",
    "    import PyPDF2\n",
    "    import re\n",
    "    \n",
    "    pdf1File = open(name+\".pdf\", 'rb')\n",
    "    reader1 = PyPDF2.PdfFileReader(pdf1File)\n",
    "\n",
    "    li = []\n",
    "    for pageNum in range(reader1.numPages):\n",
    "        text = reader1.getPage(pageNum).extractText()\n",
    "        y = re.findall('\\$[0-9,]+',text)\n",
    "        z = re.findall('\\§[0-9,]+',text)\n",
    "        if y:\n",
    "            li.append(f'page_number {pageNum+1} {y}')\n",
    "        elif z:\n",
    "            li.append(f'page_number {pageNum+1} {z}')\n",
    "    \n",
    "    #d = [x.strip(\"\").split(\"\\n\") for x in li]\n",
    "    e = [sub.replace(',', '') for sub in li]\n",
    "    \n",
    "    outfile = open(name+\".json\", \"w\")\n",
    "    # output the header row\n",
    "    outfile.write('linksfound,page_number')\n",
    "    outfile.write('\\n')\n",
    "    # output each of the rows:\n",
    "    for i in e:\n",
    "        row_string = '{}'.format(i)\n",
    "        # row_string = ','.join(olympian[0], str(olympian[1]), olympian[2]) # alternative method\n",
    "        outfile.write(row_string)\n",
    "        outfile.write('\\n')\n",
    "    outfile.close()"
   ]
  },
  {
   "cell_type": "code",
   "execution_count": 195,
   "metadata": {},
   "outputs": [],
   "source": [
    "Extract('combineminutes')"
   ]
  },
  {
   "cell_type": "code",
   "execution_count": null,
   "metadata": {},
   "outputs": [],
   "source": []
  },
  {
   "cell_type": "code",
   "execution_count": null,
   "metadata": {},
   "outputs": [],
   "source": []
  }
 ],
 "metadata": {
  "kernelspec": {
   "display_name": "Python 3",
   "language": "python",
   "name": "python3"
  },
  "language_info": {
   "codemirror_mode": {
    "name": "ipython",
    "version": 3
   },
   "file_extension": ".py",
   "mimetype": "text/x-python",
   "name": "python",
   "nbconvert_exporter": "python",
   "pygments_lexer": "ipython3",
   "version": "3.6.2"
  }
 },
 "nbformat": 4,
 "nbformat_minor": 4
}
