{
 "cells": [
  {
   "cell_type": "code",
   "execution_count": 1,
   "metadata": {},
   "outputs": [
    {
     "name": "stdout",
     "output_type": "stream",
     "text": [
      "chololate\n",
      "vanilla\n",
      "persimmon\n"
     ]
    }
   ],
   "source": [
    "class Scoop():\n",
    "    def __init__(self, flavor):\n",
    "        self.flavor = flavor\n",
    "    \n",
    "class Bowl():\n",
    "    def __init__(self):\n",
    "        self.scoops = []\n",
    "        \n",
    "    def add_scoop(self, *new_scoops):\n",
    "        for one_scoop in new_scoops:\n",
    "            self.scoops.append(one_scoop)\n",
    "    \n",
    "    def __repr__(self):\n",
    "        return '\\n'.join(s.flavor for s in self.scoops)\n",
    "    \n",
    "s1 = Scoop('chololate')\n",
    "s2 = Scoop('vanilla')\n",
    "s3 = Scoop('persimmon')\n",
    "\n",
    "b = Bowl()\n",
    "b.add_scoop(s1,s2)\n",
    "b.add_scoop(s3)\n",
    "print(b)"
   ]
  },
  {
   "cell_type": "markdown",
   "metadata": {},
   "source": [
    "### Join all items in a tuple into a string, using a hash character as separator:"
   ]
  },
  {
   "cell_type": "code",
   "execution_count": 2,
   "metadata": {},
   "outputs": [
    {
     "name": "stdout",
     "output_type": "stream",
     "text": [
      "John#Peter#Vicky\n"
     ]
    }
   ],
   "source": [
    "myTuple = (\"John\", \"Peter\", \"Vicky\")\n",
    "\n",
    "x = \"#\".join(myTuple)\n",
    "\n",
    "print(x)\n"
   ]
  },
  {
   "cell_type": "markdown",
   "metadata": {},
   "source": [
    "## https://www.geeksforgeeks.org/python-list-comprehensions-vs-generator-expressions/?ref=rp"
   ]
  },
  {
   "cell_type": "markdown",
   "metadata": {},
   "source": [
    "# dataclass decorator"
   ]
  },
  {
   "cell_type": "code",
   "execution_count": 6,
   "metadata": {},
   "outputs": [],
   "source": [
    "# from dataclasses import dataclass, field\n",
    "\n",
    "@dataclass\n",
    "class Scoop():\n",
    "    flavor : str"
   ]
  },
  {
   "cell_type": "markdown",
   "metadata": {},
   "source": [
    "# Bowl class can be define  with a dataclass"
   ]
  },
  {
   "cell_type": "code",
   "execution_count": 4,
   "metadata": {},
   "outputs": [],
   "source": [
    "from typing import List\n",
    "from dataclasses import dataclass, field\n",
    "\n",
    "class Scoop():\n",
    "    def __init__(self, flavor):\n",
    "        self.flavor = flavor\n",
    "\n",
    "@dataclass\n",
    "class Bowl():\n",
    "    scoops: List[Scoop] = field(default_factory=list) # we provide a type & a default value\n",
    "\n",
    "    def add_scoops(self, *new_scoops):\n",
    "        for one_scoop in new_scoops:\n",
    "            self.scoops.append(one_scoop)\n",
    "\n",
    "    def __repr__(self):\n",
    "        return '\\n'.join(s.flavor for s in self.scoops)"
   ]
  },
  {
   "cell_type": "code",
   "execution_count": 5,
   "metadata": {},
   "outputs": [
    {
     "name": "stdout",
     "output_type": "stream",
     "text": [
      "chololate\n",
      "vanilla\n",
      "persimmon\n"
     ]
    }
   ],
   "source": [
    "s1 = Scoop('chololate')\n",
    "s2 = Scoop('vanilla')\n",
    "s3 = Scoop('persimmon')\n",
    "\n",
    "b = Bowl()\n",
    "b.add_scoops(s1,s2)\n",
    "b.add_scoops(s3)\n",
    "print(b)"
   ]
  },
  {
   "cell_type": "code",
   "execution_count": 17,
   "metadata": {},
   "outputs": [
    {
     "name": "stdout",
     "output_type": "stream",
     "text": [
      "chocolate\n",
      "vanilla\n",
      "persimmon\n"
     ]
    }
   ],
   "source": [
    "class Scoop():\n",
    "    def __init__(self, flavor):\n",
    "        self.flavor = flavor\n",
    "\n",
    "class Bowl():\n",
    "    max_scoops = 3\n",
    "\n",
    "    def __init__(self):\n",
    "        self.scoops = []\n",
    "\n",
    "    def add_scoops(self, *new_scoops):\n",
    "        for one_scoop in new_scoops:\n",
    "            if len(self.scoops) < Bowl.max_scoops:\n",
    "                self.scoops.append(one_scoop)\n",
    "\n",
    "    def __repr__(self):\n",
    "        return '\\n'.join(s.flavor for s in self.scoops)\n",
    "\n",
    "s1 = Scoop('chocolate')\n",
    "s2 = Scoop('vanilla')\n",
    "s3 = Scoop('persimmon')\n",
    "s4 = Scoop('flavor 4')\n",
    "s5 = Scoop('flavor 5')\n",
    "\n",
    "b = Bowl()\n",
    "b.add_scoops(s1, s2)\n",
    "b.add_scoops(s3)\n",
    "b.add_scoops(s4, s5)\n",
    "print(b)                  # still prints only 3 flavors"
   ]
  },
  {
   "cell_type": "code",
   "execution_count": 24,
   "metadata": {},
   "outputs": [
    {
     "name": "stdout",
     "output_type": "stream",
     "text": [
      "chocolate\n",
      "vanilla\n",
      "persimmon\n",
      "flavor 4\n",
      "flavor 5\n"
     ]
    }
   ],
   "source": [
    "class Scoop():\n",
    "    def __init__(self, flavor):\n",
    "        self.flavor = flavor\n",
    "\n",
    "class Bowl():\n",
    "    max_scoops = 3\n",
    "\n",
    "    def __init__(self):\n",
    "        self.scoops = []\n",
    "\n",
    "    def add_scoops(self, *new_scoops):\n",
    "        for one_scoop in new_scoops:\n",
    "            if len(self.scoops) < self.max_scoops:    # changed this ->Bowl.max_scoops\n",
    "                self.scoops.append(one_scoop)\n",
    "\n",
    "    def __repr__(self):\n",
    "        return '\\n'.join(s.flavor for s in self.scoops)\n",
    "    \n",
    "class Big_Bowl(Bowl):\n",
    "    max_scoops = 5\n",
    "\n",
    "s1 = Scoop('chocolate')\n",
    "s2 = Scoop('vanilla')\n",
    "s3 = Scoop('persimmon')\n",
    "s4 = Scoop('flavor 4')\n",
    "s5 = Scoop('flavor 5')\n",
    "\n",
    "bb = Big_Bowl()\n",
    "bb.add_scoops(s1, s2)\n",
    "bb.add_scoops(s3)\n",
    "bb.add_scoops(s4, s5)\n",
    "print(bb) # still prints only 3 flavors"
   ]
  },
  {
   "cell_type": "code",
   "execution_count": 16,
   "metadata": {},
   "outputs": [],
   "source": [
    "class Person():\n",
    "    def __init__(self, name):\n",
    "        self.name = name\n",
    "\n",
    "    def greet(self):\n",
    "        return f'Hello, {self.name}'\n",
    "\n",
    "class Employee(Person):\n",
    "    def __init__(self, name, id_number):\n",
    "        self.name = name\n",
    "        self.id_number = id_number\n",
    "    def __repr__(self):\n",
    "        return \"{},{}\".format(self.name,self.id_number)\n",
    "        \n",
    "e = Employee('empname', 1)"
   ]
  },
  {
   "cell_type": "code",
   "execution_count": 17,
   "metadata": {},
   "outputs": [
    {
     "name": "stdout",
     "output_type": "stream",
     "text": [
      "empname,1\n"
     ]
    }
   ],
   "source": [
    "print(e)"
   ]
  },
  {
   "cell_type": "code",
   "execution_count": 15,
   "metadata": {},
   "outputs": [
    {
     "name": "stdout",
     "output_type": "stream",
     "text": [
      "empname,1\n"
     ]
    }
   ],
   "source": [
    "class Person():\n",
    "    def __init__(self, name):\n",
    "        self.name = name\n",
    "\n",
    "    def greet(self):\n",
    "        return f'Hello, {self.name}'\n",
    "\n",
    "class Employee(Person):\n",
    "    def __init__(self, name, id_number):\n",
    "        super().__init__(name)\n",
    "        self.id_number = id_number\n",
    "        \n",
    "    def __repr__(self):\n",
    "        return \"{},{}\".format(self.name,self.id_number)\n",
    "    \n",
    "    \n",
    "f = Employee('empname', 1)\n",
    "print(f)"
   ]
  },
  {
   "cell_type": "code",
   "execution_count": 1,
   "metadata": {},
   "outputs": [
    {
     "name": "stdout",
     "output_type": "stream",
     "text": [
      "100\n",
      "500\n",
      "100\n",
      "100\n"
     ]
    }
   ],
   "source": [
    "class FlexibleDict(dict):\n",
    "    \n",
    "    def __getitem__(self, key):\n",
    "        try:\n",
    "            if key in self:\n",
    "                pass\n",
    "            elif str(key) in self:\n",
    "                key = str(key)\n",
    "            elif int(key) in self:\n",
    "                key = int(key)\n",
    "        except ValueError:\n",
    "            pass\n",
    "\n",
    "        return dict.__getitem__(self, key)\n",
    "\n",
    "\n",
    "fd = FlexibleDict() # Now I'll test the code!\n",
    "\n",
    "\n",
    "fd['a'] = 100\n",
    "print(fd['a'])   # prints 100, just like a regular dict\n",
    "\n",
    "fd[5] = 500\n",
    "print(fd[5])     # prints 500, just like a regular dict\n",
    "\n",
    "fd[1] = 100      # int key\n",
    "print(fd['1'])   # prints 100, even though we passed a str\n",
    "\n",
    "fd['1'] = 100    # str key\n",
    "print(fd[1])  "
   ]
  },
  {
   "cell_type": "code",
   "execution_count": 2,
   "metadata": {},
   "outputs": [
    {
     "data": {
      "text/plain": [
       "100"
      ]
     },
     "execution_count": 2,
     "metadata": {},
     "output_type": "execute_result"
    }
   ],
   "source": [
    "fd['a']"
   ]
  },
  {
   "cell_type": "code",
   "execution_count": 6,
   "metadata": {},
   "outputs": [
    {
     "name": "stdout",
     "output_type": "stream",
     "text": [
      "black Wolf, 4 legs\n",
      "white Sheep, 4 legs\n",
      "brown Snake, 0 legs\n",
      "green Parrot, 2 legs\n"
     ]
    }
   ],
   "source": [
    "class Animal():\n",
    "    def __init__(self, color, number_of_legs):\n",
    "        self.species = self.__class__.__name__\n",
    "        self.color = color\n",
    "        self.number_of_legs = number_of_legs\n",
    "\n",
    "    def __repr__(self):\n",
    "        return f\"{self.color} {self.species}, {self.number_of_legs} legs\"\n",
    "\n",
    "class Wolf(Animal):\n",
    "    def __init__(self, color):\n",
    "        super().__init__(color, 4)\n",
    "\n",
    "class Sheep(Animal):\n",
    "    def __init__(self, color):\n",
    "        super().__init__(color, 4)\n",
    "\n",
    "class Snake(Animal):\n",
    "    def __init__(self, color):\n",
    "        super().__init__(color, 0)\n",
    "\n",
    "class Parrot(Animal):\n",
    "    def __init__(self, color):\n",
    "        super().__init__(color, 2)\n",
    "\n",
    "\n",
    "wolf = Wolf('black')\n",
    "sheep = Sheep('white')\n",
    "snake = Snake('brown')\n",
    "parrot = Parrot('green')\n",
    "\n",
    "print(wolf)\n",
    "print(sheep)\n",
    "print(snake)\n",
    "print(parrot)"
   ]
  },
  {
   "cell_type": "markdown",
   "metadata": {},
   "source": [
    "## interlinking class without inheritance"
   ]
  },
  {
   "cell_type": "code",
   "execution_count": 7,
   "metadata": {},
   "outputs": [
    {
     "name": "stdout",
     "output_type": "stream",
     "text": [
      "Cage 1\n",
      "\tblack Wolf, 4 legs\n",
      "\twhite Sheep, 4 legs\n",
      "Cage 2\n",
      "\tbrown Snake, 0 legs\n",
      "\tgreen Parrot, 2 legs\n"
     ]
    }
   ],
   "source": [
    "class Cage():\n",
    "\n",
    "    def __init__(self, id_number):\n",
    "        self.id_number = id_number\n",
    "        self.animals = [ ]\n",
    "\n",
    "    def add_animals(self, *animals):\n",
    "        for one_animal in animals:\n",
    "            self.animals.append(one_animal)\n",
    "\n",
    "    def __repr__(self):\n",
    "        output = f\"Cage {self.id_number}\\n\"\n",
    "        output += '\\n'.join('\\t' + str(animal)\n",
    "                             for animal in self.animals)\n",
    "        return output\n",
    "\n",
    "c1 = Cage(1)\n",
    "c1.add_animals(wolf, sheep)\n",
    "\n",
    "c2 = Cage(2)\n",
    "c2.add_animals(snake, parrot)\n",
    "\n",
    "print(c1)\n",
    "print(c2)"
   ]
  },
  {
   "cell_type": "code",
   "execution_count": 4,
   "metadata": {},
   "outputs": [
    {
     "name": "stdout",
     "output_type": "stream",
     "text": [
      "black Wolf, 4 legs\n"
     ]
    }
   ],
   "source": [
    "class Animal():\n",
    "    def __init__(self):\n",
    "        self.species = self.__class__.__name__\n",
    "        #self.color = color\n",
    "        #self.number_of_legs = number_of_legs\n",
    "\n",
    "    #def __repr__(self):\n",
    "       # return f\"{self.color} {self.species}, {self.number_of_legs} legs\"\n",
    "\n",
    "class Wolf(Animal):\n",
    "    number_of_legs = 4\n",
    "    color = 'black'\n",
    "   \n",
    "    \n",
    "    def __repr__(self):\n",
    "        return f\"{self.color} {self.species}, {self.number_of_legs} legs\"\n",
    "\n",
    "\n",
    "\n",
    "wolf = Wolf()\n",
    "\n",
    "\n",
    "print(wolf)\n"
   ]
  },
  {
   "cell_type": "code",
   "execution_count": 5,
   "metadata": {},
   "outputs": [
    {
     "name": "stdout",
     "output_type": "stream",
     "text": [
      "Cage 1\n",
      "\tblack Wolf, 4 legs\n",
      "\twhite Sheep, 4 legs\n"
     ]
    }
   ],
   "source": [
    "class Animal():\n",
    "    def __init__(self, color, number_of_legs):\n",
    "        self.species = self.__class__.__name__\n",
    "        self.color = color\n",
    "        self.number_of_legs = number_of_legs\n",
    "\n",
    "    def __repr__(self):\n",
    "        return f\"{self.color} {self.species}, {self.number_of_legs} legs\"\n",
    "\n",
    "class Wolf(Animal):\n",
    "    def __init__(self, color):\n",
    "        super().__init__(color, 4)\n",
    "\n",
    "class Sheep(Animal):\n",
    "    def __init__(self, color):\n",
    "        super().__init__(color, 4)\n",
    "\n",
    "class Cage():\n",
    "\n",
    "    def __init__(self, id_number):\n",
    "        self.id_number = id_number\n",
    "        self.animals = [ ]\n",
    "\n",
    "    def add_animals(self, *animals):\n",
    "        for one_animal in animals:\n",
    "            self.animals.append(one_animal)\n",
    "\n",
    "    def __repr__(self):\n",
    "        output = f\"Cage {self.id_number}\\n\"\n",
    "        output += '\\n'.join('\\t' + str(animal)\n",
    "                             for animal in self.animals)\n",
    "        return output\n",
    "\n",
    "wolf = Wolf('black')\n",
    "sheep = Sheep('white')\n",
    "c1 = Cage(1)\n",
    "c1.add_animals(wolf, sheep) # using instanace information to add animal\n",
    "print(c1)"
   ]
  },
  {
   "cell_type": "code",
   "execution_count": 14,
   "metadata": {},
   "outputs": [
    {
     "name": "stdout",
     "output_type": "stream",
     "text": [
      "Cage 1\n",
      "\tblack Wolf, 4 legs\n",
      "\twhite Sheep, 4 legs\n",
      "Cage 2\n",
      "\tbrown Snake, 0 legs\n",
      "\tgreen Parrot, 2 legs\n"
     ]
    },
    {
     "data": {
      "text/plain": [
       "[black Wolf, 4 legs, white Sheep, 4 legs]"
      ]
     },
     "execution_count": 14,
     "metadata": {},
     "output_type": "execute_result"
    }
   ],
   "source": [
    "class Zoo():\n",
    "    def __init__(self):\n",
    "        self.cages = [ ]\n",
    "\n",
    "    def add_cages(self, *cages):\n",
    "        for one_cage in cages:\n",
    "            self.cages.append(one_cage)\n",
    "\n",
    "    def __repr__(self):\n",
    "        return '\\n'.join(str(one_cage)\n",
    "                         for one_cage in self.cages)\n",
    "\n",
    "    def animals_by_color(self, color):\n",
    "        return [one_animal\n",
    "               for one_cage in self.cages\n",
    "               for one_animal in one_cage.animals\n",
    "               if one_animal.color == color]\n",
    "\n",
    "    def animals_by_legs(self, number_of_legs):\n",
    "        return [one_animal\n",
    "               for one_cage in self.cages\n",
    "               for one_animal in one_cage.animals\n",
    "               if one_animal.number_of_legs == number_of_legs]\n",
    "\n",
    "    def number_of_legs(self):\n",
    "        return sum(one_animal.number_of_legs\n",
    "                   for one_cage in self.cages\n",
    "                   for one_animal in one_cage.animals)\n",
    "\n",
    "\n",
    "z = Zoo()\n",
    "z.add_cages(c1, c2)\n",
    "print(z)\n",
    "\n",
    "z.animals_by_legs(4)"
   ]
  },
  {
   "cell_type": "code",
   "execution_count": 10,
   "metadata": {},
   "outputs": [
    {
     "name": "stdout",
     "output_type": "stream",
     "text": [
      "Cage 1\n",
      "\tblack Wolf, 4 legs\n",
      "\twhite Sheep, 4 legs\n",
      "Cage 2\n",
      "\tbrown Snake, 0 legs\n",
      "\tgreen Parrot, 2 legs\n"
     ]
    }
   ],
   "source": [
    "class Animal():\n",
    "    def __init__(self, color, number_of_legs):\n",
    "        self.species = self.__class__.__name__\n",
    "        self.color = color\n",
    "        self.number_of_legs = number_of_legs\n",
    "\n",
    "    def __repr__(self):\n",
    "        return f\"{self.color} {self.species}, {self.number_of_legs} legs\"\n",
    "\n",
    "class Wolf(Animal):\n",
    "    def __init__(self, color):\n",
    "        super().__init__(color, 4)\n",
    "\n",
    "class Sheep(Animal):\n",
    "    def __init__(self, color):\n",
    "        super().__init__(color, 4)\n",
    "\n",
    "class Snake(Animal):\n",
    "    def __init__(self, color):\n",
    "        super().__init__(color, 0)\n",
    "\n",
    "class Parrot(Animal):\n",
    "    def __init__(self, color):\n",
    "        super().__init__(color, 2)\n",
    "         \n",
    "class Cage():\n",
    "\n",
    "    def __init__(self, id_number):\n",
    "        self.id_number = id_number\n",
    "        self.animals = [ ]\n",
    "\n",
    "    def add_animals(self, *animals):\n",
    "        for one_animal in animals:\n",
    "            self.animals.append(one_animal)\n",
    "    \n",
    "    def __repr__(self):\n",
    "        output = f\"Cage {self.id_number}\\n\"\n",
    "        output += '\\n'.join('\\t' + str(animal)\n",
    "                             for animal in self.animals)\n",
    "        return output\n",
    "\n",
    "\n",
    "class Zoo():\n",
    "    def __init__(self):\n",
    "        self.cages = [ ]\n",
    "\n",
    "    def add_cages(self, *cages):\n",
    "        for one_cage in cages:\n",
    "            self.cages.append(one_cage)\n",
    "\n",
    "    def __repr__(self):\n",
    "        return '\\n'.join(str(one_cage)\n",
    "                         for one_cage in self.cages)\n",
    "\n",
    "    def animals_by_color(self, color):\n",
    "        return [one_animal\n",
    "               for one_cage in self.cages\n",
    "               for one_animal in one_cage.animals\n",
    "               if one_animal.color == color]\n",
    "\n",
    "    def animals_by_legs(self, number_of_legs):\n",
    "        return [one_animal\n",
    "               for one_cage in self.cages\n",
    "               for one_animal in one_cage.animals\n",
    "               if one_animal.number_of_legs == number_of_legs]\n",
    "\n",
    "    def number_of_legs(self):\n",
    "        return sum(one_animal.number_of_legs\n",
    "                   for one_cage in self.cages\n",
    "                   for one_animal in one_cage.animals)\n",
    "\n",
    "wolf = Wolf('black')\n",
    "sheep = Sheep('white')            \n",
    "c1 = Cage(1)\n",
    "c1.add_animals(wolf, sheep)\n",
    "\n",
    "snake = Snake('brown')\n",
    "parrot = Parrot('green')\n",
    "c2 = Cage(2)\n",
    "c2.add_animals(snake, parrot)\n",
    "\n",
    "z = Zoo()\n",
    "z.add_cages(c1, c2)\n",
    "print(z)"
   ]
  },
  {
   "cell_type": "code",
   "execution_count": null,
   "metadata": {},
   "outputs": [],
   "source": []
  }
 ],
 "metadata": {
  "kernelspec": {
   "display_name": "Python 3",
   "language": "python",
   "name": "python3"
  },
  "language_info": {
   "codemirror_mode": {
    "name": "ipython",
    "version": 3
   },
   "file_extension": ".py",
   "mimetype": "text/x-python",
   "name": "python",
   "nbconvert_exporter": "python",
   "pygments_lexer": "ipython3",
   "version": "3.6.10"
  }
 },
 "nbformat": 4,
 "nbformat_minor": 4
}
