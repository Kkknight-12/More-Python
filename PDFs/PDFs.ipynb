{
 "cells": [
  {
   "cell_type": "code",
   "execution_count": 2,
   "metadata": {},
   "outputs": [],
   "source": [
    "import PyPDF2\n",
    "import os"
   ]
  },
  {
   "cell_type": "code",
   "execution_count": 3,
   "metadata": {},
   "outputs": [
    {
     "data": {
      "text/plain": [
       "<module 'os' from '/Users/knight/anaconda3/lib/python3.6/os.py'>"
      ]
     },
     "execution_count": 3,
     "metadata": {},
     "output_type": "execute_result"
    }
   ],
   "source": [
    "os"
   ]
  },
  {
   "cell_type": "markdown",
   "metadata": {},
   "source": [
    "### change direcotry where the file is located"
   ]
  },
  {
   "cell_type": "code",
   "execution_count": 4,
   "metadata": {},
   "outputs": [],
   "source": [
    "os.chdir('/Users/knight/Documents')"
   ]
  },
  {
   "cell_type": "markdown",
   "metadata": {},
   "source": [
    "### rb \n",
    "reading file n binary mode becasue pdfs are binary files"
   ]
  },
  {
   "cell_type": "code",
   "execution_count": 8,
   "metadata": {},
   "outputs": [],
   "source": [
    "pdfFile = open('meetingminutes1.pdf','rb')"
   ]
  },
  {
   "cell_type": "markdown",
   "metadata": {},
   "source": [
    "## PdfFileReader\n",
    "reading pdf file"
   ]
  },
  {
   "cell_type": "code",
   "execution_count": 10,
   "metadata": {},
   "outputs": [],
   "source": [
    "reader = PyPDF2.PdfFileReader(pdfFile)"
   ]
  },
  {
   "cell_type": "markdown",
   "metadata": {},
   "source": [
    "### numPages\n",
    "to get the number of pages in pdf document"
   ]
  },
  {
   "cell_type": "code",
   "execution_count": 11,
   "metadata": {},
   "outputs": [
    {
     "data": {
      "text/plain": [
       "19"
      ]
     },
     "execution_count": 11,
     "metadata": {},
     "output_type": "execute_result"
    }
   ],
   "source": [
    "reader.numPages"
   ]
  },
  {
   "cell_type": "markdown",
   "metadata": {},
   "source": [
    "### getPage\n",
    "selecting page number"
   ]
  },
  {
   "cell_type": "code",
   "execution_count": 12,
   "metadata": {},
   "outputs": [],
   "source": [
    "page = reader.getPage(0)"
   ]
  },
  {
   "cell_type": "markdown",
   "metadata": {},
   "source": [
    "### extractText\n",
    "extracting the text from selected page"
   ]
  },
  {
   "cell_type": "code",
   "execution_count": 13,
   "metadata": {},
   "outputs": [
    {
     "data": {
      "text/plain": [
       "'OOFFFFIICCIIAALL  BBOOAARRDD  MMIINNUUTTEESS   Meeting of \\nMarch 7\\n, 2014\\n        \\n     The Board of Elementary and Secondary Education shall provide leadership and \\ncreate policies for education that expand opportunities for children, empower \\nfamilies and communities, and advance Louisiana in an increasingly \\ncompetitive glob\\nal market.\\n BOARD \\n of ELEMENTARY\\n and \\n SECONDARY\\n EDUCATION\\n  '"
      ]
     },
     "execution_count": 13,
     "metadata": {},
     "output_type": "execute_result"
    }
   ],
   "source": [
    "page.extractText()"
   ]
  },
  {
   "cell_type": "code",
   "execution_count": 17,
   "metadata": {},
   "outputs": [
    {
     "name": "stdout",
     "output_type": "stream",
     "text": [
      "OOFFFFIICCIIAALL  BBOOAARRDD  MMIINNUUTTEESS   Meeting of \n",
      "March 7\n",
      ", 2014\n",
      "        \n",
      "     The Board of Elementary and Secondary Education shall provide leadership and \n",
      "create policies for education that expand opportunities for children, empower \n",
      "families and communities, and advance Louisiana in an increasingly \n",
      "competitive glob\n",
      "al market.\n",
      " BOARD \n",
      " of ELEMENTARY\n",
      " and \n",
      " SECONDARY\n",
      " EDUCATION\n",
      "  \n"
     ]
    }
   ],
   "source": [
    "for pageNum in range(reader.numPages):\n",
    "    if pageNum < 1: # printing page 1 only , to print whole pdf remove this line\n",
    "        print(reader.getPage(pageNum).extractText())"
   ]
  },
  {
   "cell_type": "markdown",
   "metadata": {},
   "source": [
    "# Merging"
   ]
  },
  {
   "cell_type": "code",
   "execution_count": 34,
   "metadata": {},
   "outputs": [],
   "source": [
    "import PyPDF2\n",
    "pdf1File = open('meetingminutes1.pdf', 'rb')\n",
    "pdf2File = open('meetingminutes2.pdf', 'rb')"
   ]
  },
  {
   "cell_type": "code",
   "execution_count": 35,
   "metadata": {},
   "outputs": [],
   "source": [
    "reader1 = PyPDF2.PdfFileReader(pdf1File)\n",
    "reader2 = PyPDF2.PdfFileReader(pdf2File)\n"
   ]
  },
  {
   "cell_type": "markdown",
   "metadata": {},
   "source": [
    "### PdfFileWriter\n",
    "writing all the data to clipboard"
   ]
  },
  {
   "cell_type": "code",
   "execution_count": 36,
   "metadata": {},
   "outputs": [],
   "source": [
    "writer = PyPDF2.PdfFileWriter()"
   ]
  },
  {
   "cell_type": "markdown",
   "metadata": {},
   "source": [
    "### addPage"
   ]
  },
  {
   "cell_type": "markdown",
   "metadata": {},
   "source": [
    "- getting all pages from pdf 1 by getPage method\n",
    "- using **addPage**  to write all pages to writer object"
   ]
  },
  {
   "cell_type": "code",
   "execution_count": 37,
   "metadata": {},
   "outputs": [],
   "source": [
    "for pageNum in range(reader1.numPages):\n",
    "    page = reader1.getPage(pageNum)\n",
    "    writer.addPage(page)"
   ]
  },
  {
   "cell_type": "markdown",
   "metadata": {},
   "source": [
    "- getting all pages from pdf 2 by getPage method\n",
    "- using **addPage**  to write all pages to writer object"
   ]
  },
  {
   "cell_type": "code",
   "execution_count": 38,
   "metadata": {},
   "outputs": [],
   "source": [
    "for pageNum in range(reader2.numPages):\n",
    "    page = reader2.getPage(pageNum)\n",
    "    writer.addPage(page)"
   ]
  },
  {
   "cell_type": "markdown",
   "metadata": {},
   "source": [
    "### saving file"
   ]
  },
  {
   "cell_type": "code",
   "execution_count": 39,
   "metadata": {},
   "outputs": [],
   "source": [
    "outputFile = open('combineminutes.pdf','wb')\n",
    "writer.write(outputFile)\n",
    "\n",
    "outputFile.close()\n",
    "pdf1File.close()\n",
    "pdf2File.close()"
   ]
  },
  {
   "cell_type": "code",
   "execution_count": null,
   "metadata": {},
   "outputs": [],
   "source": []
  }
 ],
 "metadata": {
  "kernelspec": {
   "display_name": "Python 3",
   "language": "python",
   "name": "python3"
  },
  "language_info": {
   "codemirror_mode": {
    "name": "ipython",
    "version": 3
   },
   "file_extension": ".py",
   "mimetype": "text/x-python",
   "name": "python",
   "nbconvert_exporter": "python",
   "pygments_lexer": "ipython3",
   "version": "3.6.2"
  }
 },
 "nbformat": 4,
 "nbformat_minor": 4
}
